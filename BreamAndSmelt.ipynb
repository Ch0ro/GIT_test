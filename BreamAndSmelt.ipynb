{
  "nbformat": 4,
  "nbformat_minor": 0,
  "metadata": {
    "colab": {
      "name": "BreamAndSmelt.ipynb",
      "provenance": [],
      "toc_visible": true,
      "authorship_tag": "ABX9TyMKwgqX7uxhEntIqNth5WP+",
      "include_colab_link": true
    },
    "kernelspec": {
      "name": "python3",
      "display_name": "Python 3"
    },
    "language_info": {
      "name": "python"
    }
  },
  "cells": [
    {
      "cell_type": "markdown",
      "metadata": {
        "id": "view-in-github",
        "colab_type": "text"
      },
      "source": [
        "<a href=\"https://colab.research.google.com/github/Ch0ro/ML-DL/blob/master/BreamAndSmelt.ipynb\" target=\"_parent\"><img src=\"https://colab.research.google.com/assets/colab-badge.svg\" alt=\"Open In Colab\"/></a>"
      ]
    },
    {
      "cell_type": "markdown",
      "metadata": {
        "id": "01QpUVnBQ2b8"
      },
      "source": [
        "# 생선 분류 문제\n",
        "#### 도미(Bream)와 빙어(Smelt) 소량데이터 분류"
      ]
    },
    {
      "cell_type": "code",
      "metadata": {
        "colab": {
          "base_uri": "https://localhost:8080/"
        },
        "id": "KzmhZ2GoOyWr",
        "outputId": "12abad67-0f0a-48fe-b829-273326928ed1"
      },
      "source": [
        "#드라이브에 접근할 수 있도록 아래 코드 입력\n",
        "from google.colab import drive\n",
        "drive.mount('/content/drive')"
      ],
      "execution_count": 12,
      "outputs": [
        {
          "output_type": "stream",
          "text": [
            "Mounted at /content/drive\n"
          ],
          "name": "stdout"
        }
      ]
    },
    {
      "cell_type": "code",
      "metadata": {
        "colab": {
          "base_uri": "https://localhost:8080/",
          "height": 204
        },
        "id": "ENnT7sBgSsw3",
        "outputId": "f4888fbc-10cc-4a2b-b24a-c25fc2959d75"
      },
      "source": [
        "df = pd.read_csv('/content/Fish.csv')\n",
        "df.head()"
      ],
      "execution_count": 13,
      "outputs": [
        {
          "output_type": "execute_result",
          "data": {
            "text/html": [
              "<div>\n",
              "<style scoped>\n",
              "    .dataframe tbody tr th:only-of-type {\n",
              "        vertical-align: middle;\n",
              "    }\n",
              "\n",
              "    .dataframe tbody tr th {\n",
              "        vertical-align: top;\n",
              "    }\n",
              "\n",
              "    .dataframe thead th {\n",
              "        text-align: right;\n",
              "    }\n",
              "</style>\n",
              "<table border=\"1\" class=\"dataframe\">\n",
              "  <thead>\n",
              "    <tr style=\"text-align: right;\">\n",
              "      <th></th>\n",
              "      <th>Species</th>\n",
              "      <th>Weight</th>\n",
              "      <th>Length1</th>\n",
              "      <th>Length2</th>\n",
              "      <th>Length3</th>\n",
              "      <th>Height</th>\n",
              "      <th>Width</th>\n",
              "    </tr>\n",
              "  </thead>\n",
              "  <tbody>\n",
              "    <tr>\n",
              "      <th>0</th>\n",
              "      <td>Bream</td>\n",
              "      <td>242.0</td>\n",
              "      <td>23.2</td>\n",
              "      <td>25.4</td>\n",
              "      <td>30.0</td>\n",
              "      <td>11.5200</td>\n",
              "      <td>4.0200</td>\n",
              "    </tr>\n",
              "    <tr>\n",
              "      <th>1</th>\n",
              "      <td>Bream</td>\n",
              "      <td>290.0</td>\n",
              "      <td>24.0</td>\n",
              "      <td>26.3</td>\n",
              "      <td>31.2</td>\n",
              "      <td>12.4800</td>\n",
              "      <td>4.3056</td>\n",
              "    </tr>\n",
              "    <tr>\n",
              "      <th>2</th>\n",
              "      <td>Bream</td>\n",
              "      <td>340.0</td>\n",
              "      <td>23.9</td>\n",
              "      <td>26.5</td>\n",
              "      <td>31.1</td>\n",
              "      <td>12.3778</td>\n",
              "      <td>4.6961</td>\n",
              "    </tr>\n",
              "    <tr>\n",
              "      <th>3</th>\n",
              "      <td>Bream</td>\n",
              "      <td>363.0</td>\n",
              "      <td>26.3</td>\n",
              "      <td>29.0</td>\n",
              "      <td>33.5</td>\n",
              "      <td>12.7300</td>\n",
              "      <td>4.4555</td>\n",
              "    </tr>\n",
              "    <tr>\n",
              "      <th>4</th>\n",
              "      <td>Bream</td>\n",
              "      <td>430.0</td>\n",
              "      <td>26.5</td>\n",
              "      <td>29.0</td>\n",
              "      <td>34.0</td>\n",
              "      <td>12.4440</td>\n",
              "      <td>5.1340</td>\n",
              "    </tr>\n",
              "  </tbody>\n",
              "</table>\n",
              "</div>"
            ],
            "text/plain": [
              "  Species  Weight  Length1  Length2  Length3   Height   Width\n",
              "0   Bream   242.0     23.2     25.4     30.0  11.5200  4.0200\n",
              "1   Bream   290.0     24.0     26.3     31.2  12.4800  4.3056\n",
              "2   Bream   340.0     23.9     26.5     31.1  12.3778  4.6961\n",
              "3   Bream   363.0     26.3     29.0     33.5  12.7300  4.4555\n",
              "4   Bream   430.0     26.5     29.0     34.0  12.4440  5.1340"
            ]
          },
          "metadata": {
            "tags": []
          },
          "execution_count": 13
        }
      ]
    },
    {
      "cell_type": "markdown",
      "metadata": {
        "id": "-NmcRYSqWewg"
      },
      "source": [
        "**전체 데이터 df에서 도미(Bream)와 빙어(Smelt) 데이터 분류**"
      ]
    },
    {
      "cell_type": "code",
      "metadata": {
        "id": "farTjgzkUhBT"
      },
      "source": [
        "data_Bream = df[df['Species']=='Bream']\n",
        "bream_length = data_Bream['Length2']\n",
        "bream_weigth = data_Bream['Weight']"
      ],
      "execution_count": 30,
      "outputs": []
    },
    {
      "cell_type": "code",
      "metadata": {
        "id": "bnjk5pH4WqsO"
      },
      "source": [
        "data_Smelt = df[df['Species']=='Smelt']\n",
        "smelt_length = data_Smelt['Length2']\n",
        "smelt_weigth = data_Smelt['Weight']"
      ],
      "execution_count": 31,
      "outputs": []
    },
    {
      "cell_type": "markdown",
      "metadata": {
        "id": "GxfDI8xiV2Va"
      },
      "source": [
        "### 산점도(Scatter Plot)\n",
        "##### x축 길이, y축 무게\n",
        "\n"
      ]
    },
    {
      "cell_type": "code",
      "metadata": {
        "id": "REC2EStbU6s-"
      },
      "source": [
        "import matplotlib.pyplot as plt"
      ],
      "execution_count": 32,
      "outputs": []
    },
    {
      "cell_type": "markdown",
      "metadata": {
        "id": "5eu4BnlmXGv5"
      },
      "source": [
        "**도미 데이터 산점도**"
      ]
    },
    {
      "cell_type": "code",
      "metadata": {
        "colab": {
          "base_uri": "https://localhost:8080/",
          "height": 296
        },
        "id": "8c_cOl4RWK2M",
        "outputId": "316cf19f-af43-4c2a-c6d7-55ea54179211"
      },
      "source": [
        "plt.scatter(bream_length,bream_weigth)\n",
        "plt.xlabel('length')\n",
        "plt.ylabel('weight')\n",
        "plt.show"
      ],
      "execution_count": 33,
      "outputs": [
        {
          "output_type": "execute_result",
          "data": {
            "text/plain": [
              "<function matplotlib.pyplot.show>"
            ]
          },
          "metadata": {
            "tags": []
          },
          "execution_count": 33
        },
        {
          "output_type": "display_data",
          "data": {
            "image/png": "[encoded data removed]",
            "text/plain": [
              "<Figure size 432x288 with 1 Axes>"
            ]
          },
          "metadata": {
            "tags": [],
            "needs_background": "light"
          }
        }
      ]
    },
    {
      "cell_type": "markdown",
      "metadata": {
        "id": "4ha73h_5XZye"
      },
      "source": [
        "\n",
        "\n",
        "*   도미의 길이가 커질수록 무게 역시 증가하는 추세를 보이고있다.\n",
        "*   산점도 그래프가 양의 선형을 띄고있다. \n",
        "\n"
      ]
    },
    {
      "cell_type": "markdown",
      "metadata": {
        "id": "rbn2Rw0KXMK4"
      },
      "source": [
        "**빙어 데이터 산점도**"
      ]
    },
    {
      "cell_type": "code",
      "metadata": {
        "colab": {
          "base_uri": "https://localhost:8080/",
          "height": 296
        },
        "id": "B1lpfgF9WWMA",
        "outputId": "e7febc61-36bd-41f4-a201-4ee49bd9c051"
      },
      "source": [
        "plt.scatter(smelt_length,smelt_weigth)\n",
        "plt.xlabel('length')\n",
        "plt.ylabel('weigth')\n",
        "plt.show"
      ],
      "execution_count": 34,
      "outputs": [
        {
          "output_type": "execute_result",
          "data": {
            "text/plain": [
              "<function matplotlib.pyplot.show>"
            ]
          },
          "metadata": {
            "tags": []
          },
          "execution_count": 34
        },
        {
          "output_type": "display_data",
          "data": {
            "image/png": "[encoded data removed]",
            "text/plain": [
              "<Figure size 432x288 with 1 Axes>"
            ]
          },
          "metadata": {
            "tags": [],
            "needs_background": "light"
          }
        }
      ]
    },
    {
      "cell_type": "markdown",
      "metadata": {
        "id": "vgAupqMgX7W4"
      },
      "source": [
        "**도미 + 빙어 산점도**"
      ]
    },
    {
      "cell_type": "code",
      "metadata": {
        "colab": {
          "base_uri": "https://localhost:8080/",
          "height": 296
        },
        "id": "NboqiZluXUfD",
        "outputId": "3dba4f25-16f9-4105-a07f-2a30a949f090"
      },
      "source": [
        "plt.scatter(bream_length,bream_weigth)\n",
        "plt.scatter(smelt_length,smelt_weigth)\n",
        "plt.xlabel('length')\n",
        "plt.ylabel('weigth')\n",
        "plt.show"
      ],
      "execution_count": 35,
      "outputs": [
        {
          "output_type": "execute_result",
          "data": {
            "text/plain": [
              "<function matplotlib.pyplot.show>"
            ]
          },
          "metadata": {
            "tags": []
          },
          "execution_count": 35
        },
        {
          "output_type": "display_data",
          "data": {
            "image/png": "[encoded data removed]",
            "text/plain": [
              "<Figure size 432x288 with 1 Axes>"
            ]
          },
          "metadata": {
            "tags": [],
            "needs_background": "light"
          }
        }
      ]
    },
    {
      "cell_type": "markdown",
      "metadata": {
        "id": "r6NwUVZVYHM8"
      },
      "source": [
        "\n",
        "\n",
        "*   빙어는 도미에 비해 표본의 개수가 너무 적고, 길이에 따른 무게의 변화가 크지 않다.\n",
        "*   선형적이라고 생각할 수 있지만, 변화가 크지 않아 빙어의 경우 길이와 무게의 상관도가 적다고 판단하겠다.\n",
        "\n"
      ]
    },
    {
      "cell_type": "markdown",
      "metadata": {
        "id": "gezLHFYCZGxy"
      },
      "source": [
        "### K-최근접 이웃 알고리즘을 활용한 생선 분류"
      ]
    },
    {
      "cell_type": "code",
      "metadata": {
        "colab": {
          "base_uri": "https://localhost:8080/"
        },
        "id": "I3W-WYagYE7m",
        "outputId": "9761c285-05e2-459a-f48a-dd0d22c6bb54"
      },
      "source": [
        "length = list(bream_length) + list(smelt_length)\n",
        "weigth = list(bream_weigth) + list(smelt_weigth)\n",
        "# 도미와 빙어 각각의 lenght와 weight 시리즈들을 2차원 리스트로 만듦\n",
        "fish_data = [[l,w] for l,w in zip(length,weigth)]\n",
        "fish_data"
      ],
      "execution_count": 44,
      "outputs": [
        {
          "output_type": "execute_result",
          "data": {
            "text/plain": [
              "[[25.4, 242.0],\n",
              " [26.3, 290.0],\n",
              " [26.5, 340.0],\n",
              " [29.0, 363.0],\n",
              " [29.0, 430.0],\n",
              " [29.7, 450.0],\n",
              " [29.7, 500.0],\n",
              " [30.0, 390.0],\n",
              " [30.0, 450.0],\n",
              " [30.7, 500.0],\n",
              " [31.0, 475.0],\n",
              " [31.0, 500.0],\n",
              " [31.5, 500.0],\n",
              " [32.0, 340.0],\n",
              " [32.0, 600.0],\n",
              " [32.0, 600.0],\n",
              " [33.0, 700.0],\n",
              " [33.0, 700.0],\n",
              " [33.5, 610.0],\n",
              " [33.5, 650.0],\n",
              " [34.0, 575.0],\n",
              " [34.0, 685.0],\n",
              " [34.5, 620.0],\n",
              " [35.0, 680.0],\n",
              " [35.0, 700.0],\n",
              " [35.0, 725.0],\n",
              " [35.0, 720.0],\n",
              " [36.0, 714.0],\n",
              " [36.0, 850.0],\n",
              " [37.0, 1000.0],\n",
              " [38.5, 920.0],\n",
              " [38.5, 955.0],\n",
              " [39.5, 925.0],\n",
              " [41.0, 975.0],\n",
              " [41.0, 950.0],\n",
              " [9.8, 6.7],\n",
              " [10.5, 7.5],\n",
              " [10.6, 7.0],\n",
              " [11.0, 9.7],\n",
              " [11.2, 9.8],\n",
              " [11.3, 8.7],\n",
              " [11.8, 10.0],\n",
              " [11.8, 9.9],\n",
              " [12.0, 9.8],\n",
              " [12.2, 12.2],\n",
              " [12.4, 13.4],\n",
              " [13.0, 12.2],\n",
              " [14.3, 19.7],\n",
              " [15.0, 19.9]]"
            ]
          },
          "metadata": {
            "tags": []
          },
          "execution_count": 44
        }
      ]
    },
    {
      "cell_type": "markdown",
      "metadata": {
        "id": "T39uNImfba8D"
      },
      "source": [
        "**정답 데이터(target data) 도미 - 1 , 빙어 - 0 으로 생성**\n",
        ">\n",
        "**35개(도미 수)의 1과 14개(방어 수)의 0으로 구성**"
      ]
    },
    {
      "cell_type": "code",
      "metadata": {
        "colab": {
          "base_uri": "https://localhost:8080/"
        },
        "id": "yLvtBxdKbBOb",
        "outputId": "54fbeeb0-6aa5-45dc-d3a9-403af5186ef1"
      },
      "source": [
        "fish_target = [1]*35 + [0]*14\n",
        "fish_target"
      ],
      "execution_count": 45,
      "outputs": [
        {
          "output_type": "execute_result",
          "data": {
            "text/plain": [
              "[1,\n",
              " 1,\n",
              " 1,\n",
              " 1,\n",
              " 1,\n",
              " 1,\n",
              " 1,\n",
              " 1,\n",
              " 1,\n",
              " 1,\n",
              " 1,\n",
              " 1,\n",
              " 1,\n",
              " 1,\n",
              " 1,\n",
              " 1,\n",
              " 1,\n",
              " 1,\n",
              " 1,\n",
              " 1,\n",
              " 1,\n",
              " 1,\n",
              " 1,\n",
              " 1,\n",
              " 1,\n",
              " 1,\n",
              " 1,\n",
              " 1,\n",
              " 1,\n",
              " 1,\n",
              " 1,\n",
              " 1,\n",
              " 1,\n",
              " 1,\n",
              " 1,\n",
              " 0,\n",
              " 0,\n",
              " 0,\n",
              " 0,\n",
              " 0,\n",
              " 0,\n",
              " 0,\n",
              " 0,\n",
              " 0,\n",
              " 0,\n",
              " 0,\n",
              " 0,\n",
              " 0,\n",
              " 0]"
            ]
          },
          "metadata": {
            "tags": []
          },
          "execution_count": 45
        }
      ]
    },
    {
      "cell_type": "code",
      "metadata": {
        "id": "ZQT1IMSYb-1K"
      },
      "source": [
        "# k-최근접 이웃 알고리즘 구현을 위한 사이킷런 패키지 임포트\n",
        "from sklearn.neighbors import KNeighborsClassifier"
      ],
      "execution_count": 46,
      "outputs": []
    },
    {
      "cell_type": "code",
      "metadata": {
        "colab": {
          "base_uri": "https://localhost:8080/"
        },
        "id": "5MNoo2kQccUw",
        "outputId": "58bfb59c-134f-48d8-e3cf-72d0dcd83dde"
      },
      "source": [
        "kn = KNeighborsClassifier()\n",
        "kn.fit(fish_data,fish_target)"
      ],
      "execution_count": 47,
      "outputs": [
        {
          "output_type": "execute_result",
          "data": {
            "text/plain": [
              "KNeighborsClassifier(algorithm='auto', leaf_size=30, metric='minkowski',\n",
              "                     metric_params=None, n_jobs=None, n_neighbors=5, p=2,\n",
              "                     weights='uniform')"
            ]
          },
          "metadata": {
            "tags": []
          },
          "execution_count": 47
        }
      ]
    },
    {
      "cell_type": "code",
      "metadata": {
        "colab": {
          "base_uri": "https://localhost:8080/"
        },
        "id": "gep9JU5LcseF",
        "outputId": "0d8bdee8-e884-4f61-8f2b-ccd821208263"
      },
      "source": [
        "kn.score(fish_data,fish_target)"
      ],
      "execution_count": 48,
      "outputs": [
        {
          "output_type": "execute_result",
          "data": {
            "text/plain": [
              "1.0"
            ]
          },
          "metadata": {
            "tags": []
          },
          "execution_count": 48
        }
      ]
    },
    {
      "cell_type": "code",
      "metadata": {
        "colab": {
          "base_uri": "https://localhost:8080/"
        },
        "id": "rJ-gzcWCcz6M",
        "outputId": "ef2a8033-65bb-4c8c-ba09-3e6facab383d"
      },
      "source": [
        "kn.predict([[30,600]])"
      ],
      "execution_count": 49,
      "outputs": [
        {
          "output_type": "execute_result",
          "data": {
            "text/plain": [
              "array([1])"
            ]
          },
          "metadata": {
            "tags": []
          },
          "execution_count": 49
        }
      ]
    },
    {
      "cell_type": "markdown",
      "metadata": {
        "id": "m87cW8n_dPNK"
      },
      "source": [
        "\n",
        "\n",
        "*   score는 정확도를 뜻하며 범위는 0~1이다.\n",
        "*   1에 가까울 수록 정확도 100%라는 뜻인데, 이 모델의 경우 정확도 100%를 보여주고 있다.\n",
        "*   predict는 새로운 값을 대입했을 때, 어느 집단에 속할지 예측해주는 것이다.\n",
        "\n",
        "*   길이 30, 무게 600에 대한 값은 1 즉, 도미로 예측하고있다.\n",
        "\n",
        "\n",
        "\n"
      ]
    },
    {
      "cell_type": "markdown",
      "metadata": {
        "id": "OQB7r4iTenVO"
      },
      "source": [
        "---"
      ]
    },
    {
      "cell_type": "markdown",
      "metadata": {
        "id": "V1xbAVFEep_7"
      },
      "source": [
        "## K-최근접 알고리즘\n",
        "##### 이 알고리즘은 기본적으로 데이터가 모두 준비되어 있어야 한다.\n",
        "##### 데이터가 아주 많은 경우 이용하기 어렵다.\n",
        "##### fit()메서드에 전달한 데이터를 모두 저장하고 있다가 새로운 데이터가 등장하면 가장 가까운 데이터를 참고하여 도미인지 빙어인지 구분한다.\n",
        "##### 가까운 몇 개의 데이터를 참고할지는 정하기 나름이나, 기본값은 5이다."
      ]
    },
    {
      "cell_type": "markdown",
      "metadata": {
        "id": "vJ9SOls3flk7"
      },
      "source": [
        "*기본값을 데이터 전체 개수인 49로 바꿔보면?*"
      ]
    },
    {
      "cell_type": "code",
      "metadata": {
        "colab": {
          "base_uri": "https://localhost:8080/"
        },
        "id": "1qrYl3ZpdpTQ",
        "outputId": "0399c86b-4b0a-4ec1-da25-c8e7368ef6b8"
      },
      "source": [
        "kn49 = KNeighborsClassifier(n_neighbors=49) #kn49 모델 생성\n",
        "kn49.fit(fish_data,fish_target)"
      ],
      "execution_count": 50,
      "outputs": [
        {
          "output_type": "execute_result",
          "data": {
            "text/plain": [
              "KNeighborsClassifier(algorithm='auto', leaf_size=30, metric='minkowski',\n",
              "                     metric_params=None, n_jobs=None, n_neighbors=49, p=2,\n",
              "                     weights='uniform')"
            ]
          },
          "metadata": {
            "tags": []
          },
          "execution_count": 50
        }
      ]
    },
    {
      "cell_type": "code",
      "metadata": {
        "colab": {
          "base_uri": "https://localhost:8080/"
        },
        "id": "tOGUcJCKf9hz",
        "outputId": "2d3b9135-af07-45bc-f4f6-3b5a8ada0dd8"
      },
      "source": [
        "kn49.score(fish_data,fish_target) #kn49 모델의 정확도"
      ],
      "execution_count": 52,
      "outputs": [
        {
          "output_type": "execute_result",
          "data": {
            "text/plain": [
              "0.7142857142857143"
            ]
          },
          "metadata": {
            "tags": []
          },
          "execution_count": 52
        }
      ]
    },
    {
      "cell_type": "code",
      "metadata": {
        "colab": {
          "base_uri": "https://localhost:8080/"
        },
        "id": "qzSWnS3mgCK2",
        "outputId": "0485450a-cb7e-4c98-92af-843dc9439902"
      },
      "source": [
        "kn49.predict([[30,600]])"
      ],
      "execution_count": 53,
      "outputs": [
        {
          "output_type": "execute_result",
          "data": {
            "text/plain": [
              "array([1])"
            ]
          },
          "metadata": {
            "tags": []
          },
          "execution_count": 53
        }
      ]
    },
    {
      "cell_type": "markdown",
      "metadata": {
        "id": "Ik73uPrMgaaE"
      },
      "source": [
        "\n",
        "\n",
        "*   이전 모델(n_neighbors=5가 기본값인 모델)보다 정확도가 떨어진다.\n",
        "*   이 값은 35/49(도미의 수 / 전체 생선 수) 값과 같다. \n",
        "*   주변 데이터 5개만 봤으면 5개 모두 도미 데이터라 정확도가 1이 나온 것!\n",
        "\n",
        "\n",
        "\n"
      ]
    }
  ]
}