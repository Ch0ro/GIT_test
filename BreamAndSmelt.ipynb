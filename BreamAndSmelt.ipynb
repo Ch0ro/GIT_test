{
  "nbformat": 4,
  "nbformat_minor": 0,
  "metadata": {
    "colab": {
      "name": "BreamAndSmelt.ipynb",
      "provenance": [],
      "collapsed_sections": [],
      "toc_visible": true,
      "include_colab_link": true
    },
    "kernelspec": {
      "name": "python3",
      "display_name": "Python 3"
    },
    "language_info": {
      "name": "python"
    }
  },
  "cells": [
    {
      "cell_type": "markdown",
      "metadata": {
        "id": "view-in-github",
        "colab_type": "text"
      },
      "source": [
        "<a href=\"https://colab.research.google.com/github/Ch0ro/ML-DL/blob/master/BreamAndSmelt.ipynb\" target=\"_parent\"><img src=\"https://colab.research.google.com/assets/colab-badge.svg\" alt=\"Open In Colab\"/></a>"
      ]
    },
    {
      "cell_type": "markdown",
      "metadata": {
        "id": "01QpUVnBQ2b8"
      },
      "source": [
        "# 생선 분류 문제01\n",
        "#### 도미(Bream)와 빙어(Smelt) 소량데이터 분류"
      ]
    },
    {
      "cell_type": "code",
      "metadata": {
        "colab": {
          "base_uri": "https://localhost:8080/"
        },
        "id": "KzmhZ2GoOyWr",
        "outputId": "f0ce7e57-db5c-4da0-d157-5cec94ff4c56"
      },
      "source": [
        "#드라이브에 접근할 수 있도록 아래 코드 입력\n",
        "from google.colab import drive\n",
        "drive.mount('/content/drive')"
      ],
      "execution_count": null,
      "outputs": [
        {
          "output_type": "stream",
          "text": [
            "Mounted at /content/drive\n"
          ],
          "name": "stdout"
        }
      ]
    },
    {
      "cell_type": "code",
      "metadata": {
        "colab": {
          "base_uri": "https://localhost:8080/",
          "height": 204
        },
        "id": "ENnT7sBgSsw3",
        "outputId": "d120c593-8070-4f4f-fb45-626705037249"
      },
      "source": [
        "import pandas as pd\n",
        "df = pd.read_csv('/content/Fish.csv')\n",
        "df.head()"
      ],
      "execution_count": null,
      "outputs": [
        {
          "output_type": "execute_result",
          "data": {
            "text/html": [
              "<div>\n",
              "<style scoped>\n",
              "    .dataframe tbody tr th:only-of-type {\n",
              "        vertical-align: middle;\n",
              "    }\n",
              "\n",
              "    .dataframe tbody tr th {\n",
              "        vertical-align: top;\n",
              "    }\n",
              "\n",
              "    .dataframe thead th {\n",
              "        text-align: right;\n",
              "    }\n",
              "</style>\n",
              "<table border=\"1\" class=\"dataframe\">\n",
              "  <thead>\n",
              "    <tr style=\"text-align: right;\">\n",
              "      <th></th>\n",
              "      <th>Species</th>\n",
              "      <th>Weight</th>\n",
              "      <th>Length1</th>\n",
              "      <th>Length2</th>\n",
              "      <th>Length3</th>\n",
              "      <th>Height</th>\n",
              "      <th>Width</th>\n",
              "    </tr>\n",
              "  </thead>\n",
              "  <tbody>\n",
              "    <tr>\n",
              "      <th>0</th>\n",
              "      <td>Bream</td>\n",
              "      <td>242.0</td>\n",
              "      <td>23.2</td>\n",
              "      <td>25.4</td>\n",
              "      <td>30.0</td>\n",
              "      <td>11.5200</td>\n",
              "      <td>4.0200</td>\n",
              "    </tr>\n",
              "    <tr>\n",
              "      <th>1</th>\n",
              "      <td>Bream</td>\n",
              "      <td>290.0</td>\n",
              "      <td>24.0</td>\n",
              "      <td>26.3</td>\n",
              "      <td>31.2</td>\n",
              "      <td>12.4800</td>\n",
              "      <td>4.3056</td>\n",
              "    </tr>\n",
              "    <tr>\n",
              "      <th>2</th>\n",
              "      <td>Bream</td>\n",
              "      <td>340.0</td>\n",
              "      <td>23.9</td>\n",
              "      <td>26.5</td>\n",
              "      <td>31.1</td>\n",
              "      <td>12.3778</td>\n",
              "      <td>4.6961</td>\n",
              "    </tr>\n",
              "    <tr>\n",
              "      <th>3</th>\n",
              "      <td>Bream</td>\n",
              "      <td>363.0</td>\n",
              "      <td>26.3</td>\n",
              "      <td>29.0</td>\n",
              "      <td>33.5</td>\n",
              "      <td>12.7300</td>\n",
              "      <td>4.4555</td>\n",
              "    </tr>\n",
              "    <tr>\n",
              "      <th>4</th>\n",
              "      <td>Bream</td>\n",
              "      <td>430.0</td>\n",
              "      <td>26.5</td>\n",
              "      <td>29.0</td>\n",
              "      <td>34.0</td>\n",
              "      <td>12.4440</td>\n",
              "      <td>5.1340</td>\n",
              "    </tr>\n",
              "  </tbody>\n",
              "</table>\n",
              "</div>"
            ],
            "text/plain": [
              "  Species  Weight  Length1  Length2  Length3   Height   Width\n",
              "0   Bream   242.0     23.2     25.4     30.0  11.5200  4.0200\n",
              "1   Bream   290.0     24.0     26.3     31.2  12.4800  4.3056\n",
              "2   Bream   340.0     23.9     26.5     31.1  12.3778  4.6961\n",
              "3   Bream   363.0     26.3     29.0     33.5  12.7300  4.4555\n",
              "4   Bream   430.0     26.5     29.0     34.0  12.4440  5.1340"
            ]
          },
          "metadata": {
            "tags": []
          },
          "execution_count": 3
        }
      ]
    },
    {
      "cell_type": "markdown",
      "metadata": {
        "id": "-NmcRYSqWewg"
      },
      "source": [
        "**전체 데이터 df에서 도미(Bream)와 빙어(Smelt) 데이터 분류**"
      ]
    },
    {
      "cell_type": "code",
      "metadata": {
        "id": "farTjgzkUhBT"
      },
      "source": [
        "data_Bream = df[df['Species']=='Bream']\n",
        "bream_length = data_Bream['Length2']\n",
        "bream_weigth = data_Bream['Weight']"
      ],
      "execution_count": null,
      "outputs": []
    },
    {
      "cell_type": "code",
      "metadata": {
        "id": "bnjk5pH4WqsO"
      },
      "source": [
        "data_Smelt = df[df['Species']=='Smelt']\n",
        "smelt_length = data_Smelt['Length2']\n",
        "smelt_weigth = data_Smelt['Weight']"
      ],
      "execution_count": null,
      "outputs": []
    },
    {
      "cell_type": "markdown",
      "metadata": {
        "id": "GxfDI8xiV2Va"
      },
      "source": [
        "### 산점도(Scatter Plot)\n",
        "##### x축 길이, y축 무게\n",
        "\n"
      ]
    },
    {
      "cell_type": "code",
      "metadata": {
        "id": "REC2EStbU6s-"
      },
      "source": [
        "import matplotlib.pyplot as plt"
      ],
      "execution_count": null,
      "outputs": []
    },
    {
      "cell_type": "markdown",
      "metadata": {
        "id": "5eu4BnlmXGv5"
      },
      "source": [
        "**도미 데이터 산점도**"
      ]
    },
    {
      "cell_type": "code",
      "metadata": {
        "colab": {
          "base_uri": "https://localhost:8080/",
          "height": 296
        },
        "id": "8c_cOl4RWK2M",
        "outputId": "4ba26899-5160-4cf5-9162-7051931e187c"
      },
      "source": [
        "plt.scatter(bream_length,bream_weigth)\n",
        "plt.xlabel('length')\n",
        "plt.ylabel('weight')\n",
        "plt.show"
      ],
      "execution_count": null,
      "outputs": [
        {
          "output_type": "execute_result",
          "data": {
            "text/plain": [
              "<function matplotlib.pyplot.show>"
            ]
          },
          "metadata": {
            "tags": []
          },
          "execution_count": 7
        },
        {
          "output_type": "display_data",
          "data": {
            "image/png": "[encoded data removed]",
            "text/plain": [
              "<Figure size 432x288 with 1 Axes>"
            ]
          },
          "metadata": {
            "tags": [],
            "needs_background": "light"
          }
        }
      ]
    },
    {
      "cell_type": "markdown",
      "metadata": {
        "id": "4ha73h_5XZye"
      },
      "source": [
        "\n",
        "\n",
        "*   도미의 길이가 커질수록 무게 역시 증가하는 추세를 보이고있다.\n",
        "*   산점도 그래프가 양의 선형을 띄고있다. \n",
        "\n"
      ]
    },
    {
      "cell_type": "markdown",
      "metadata": {
        "id": "rbn2Rw0KXMK4"
      },
      "source": [
        "**빙어 데이터 산점도**"
      ]
    },
    {
      "cell_type": "code",
      "metadata": {
        "colab": {
          "base_uri": "https://localhost:8080/",
          "height": 296
        },
        "id": "B1lpfgF9WWMA",
        "outputId": "be34d5b9-fbb4-43ac-acf3-3f19c4feadc9"
      },
      "source": [
        "plt.scatter(smelt_length,smelt_weigth)\n",
        "plt.xlabel('length')\n",
        "plt.ylabel('weigth')\n",
        "plt.show"
      ],
      "execution_count": null,
      "outputs": [
        {
          "output_type": "execute_result",
          "data": {
            "text/plain": [
              "<function matplotlib.pyplot.show>"
            ]
          },
          "metadata": {
            "tags": []
          },
          "execution_count": 8
        },
        {
          "output_type": "display_data",
          "data": {
            "image/png": "[encoded data removed]",
            "text/plain": [
              "<Figure size 432x288 with 1 Axes>"
            ]
          },
          "metadata": {
            "tags": [],
            "needs_background": "light"
          }
        }
      ]
    },
    {
      "cell_type": "markdown",
      "metadata": {
        "id": "vgAupqMgX7W4"
      },
      "source": [
        "**도미 + 빙어 산점도**"
      ]
    },
    {
      "cell_type": "code",
      "metadata": {
        "colab": {
          "base_uri": "https://localhost:8080/",
          "height": 296
        },
        "id": "NboqiZluXUfD",
        "outputId": "11288271-c3a5-4698-eabe-3f3360ad6266"
      },
      "source": [
        "plt.scatter(bream_length,bream_weigth)\n",
        "plt.scatter(smelt_length,smelt_weigth)\n",
        "plt.xlabel('length')\n",
        "plt.ylabel('weigth')\n",
        "plt.show"
      ],
      "execution_count": null,
      "outputs": [
        {
          "output_type": "execute_result",
          "data": {
            "text/plain": [
              "<function matplotlib.pyplot.show>"
            ]
          },
          "metadata": {
            "tags": []
          },
          "execution_count": 9
        },
        {
          "output_type": "display_data",
          "data": {
            "image/png": "[encoded data removed]",
            "text/plain": [
              "<Figure size 432x288 with 1 Axes>"
            ]
          },
          "metadata": {
            "tags": [],
            "needs_background": "light"
          }
        }
      ]
    },
    {
      "cell_type": "markdown",
      "metadata": {
        "id": "r6NwUVZVYHM8"
      },
      "source": [
        "\n",
        "\n",
        "*   빙어는 도미에 비해 표본의 개수가 너무 적고, 길이에 따른 무게의 변화가 크지 않다.\n",
        "*   선형적이라고 생각할 수 있지만, 변화가 크지 않아 빙어의 경우 길이와 무게의 상관도가 적다고 판단하겠다.\n",
        "\n"
      ]
    },
    {
      "cell_type": "markdown",
      "metadata": {
        "id": "gezLHFYCZGxy"
      },
      "source": [
        "### K-최근접 이웃 알고리즘을 활용한 생선 분류"
      ]
    },
    {
      "cell_type": "code",
      "metadata": {
        "colab": {
          "base_uri": "https://localhost:8080/"
        },
        "id": "I3W-WYagYE7m",
        "outputId": "41d0405f-d517-431b-bcf5-f8eb7ecd6b71"
      },
      "source": [
        "length = list(bream_length) + list(smelt_length)\n",
        "weigth = list(bream_weigth) + list(smelt_weigth)\n",
        "# 도미와 빙어 각각의 lenght와 weight 시리즈들을 2차원 리스트로 만듦\n",
        "fish_data = [[l,w] for l,w in zip(length,weigth)]\n",
        "fish_data"
      ],
      "execution_count": null,
      "outputs": [
        {
          "output_type": "execute_result",
          "data": {
            "text/plain": [
              "[[25.4, 242.0],\n",
              " [26.3, 290.0],\n",
              " [26.5, 340.0],\n",
              " [29.0, 363.0],\n",
              " [29.0, 430.0],\n",
              " [29.7, 450.0],\n",
              " [29.7, 500.0],\n",
              " [30.0, 390.0],\n",
              " [30.0, 450.0],\n",
              " [30.7, 500.0],\n",
              " [31.0, 475.0],\n",
              " [31.0, 500.0],\n",
              " [31.5, 500.0],\n",
              " [32.0, 340.0],\n",
              " [32.0, 600.0],\n",
              " [32.0, 600.0],\n",
              " [33.0, 700.0],\n",
              " [33.0, 700.0],\n",
              " [33.5, 610.0],\n",
              " [33.5, 650.0],\n",
              " [34.0, 575.0],\n",
              " [34.0, 685.0],\n",
              " [34.5, 620.0],\n",
              " [35.0, 680.0],\n",
              " [35.0, 700.0],\n",
              " [35.0, 725.0],\n",
              " [35.0, 720.0],\n",
              " [36.0, 714.0],\n",
              " [36.0, 850.0],\n",
              " [37.0, 1000.0],\n",
              " [38.5, 920.0],\n",
              " [38.5, 955.0],\n",
              " [39.5, 925.0],\n",
              " [41.0, 975.0],\n",
              " [41.0, 950.0],\n",
              " [9.8, 6.7],\n",
              " [10.5, 7.5],\n",
              " [10.6, 7.0],\n",
              " [11.0, 9.7],\n",
              " [11.2, 9.8],\n",
              " [11.3, 8.7],\n",
              " [11.8, 10.0],\n",
              " [11.8, 9.9],\n",
              " [12.0, 9.8],\n",
              " [12.2, 12.2],\n",
              " [12.4, 13.4],\n",
              " [13.0, 12.2],\n",
              " [14.3, 19.7],\n",
              " [15.0, 19.9]]"
            ]
          },
          "metadata": {
            "tags": []
          },
          "execution_count": 10
        }
      ]
    },
    {
      "cell_type": "markdown",
      "metadata": {
        "id": "T39uNImfba8D"
      },
      "source": [
        "**정답 데이터(target data) 도미 - 1 , 빙어 - 0 으로 생성**\n",
        ">\n",
        "**35개(도미 수)의 1과 14개(방어 수)의 0으로 구성**"
      ]
    },
    {
      "cell_type": "code",
      "metadata": {
        "colab": {
          "base_uri": "https://localhost:8080/"
        },
        "id": "yLvtBxdKbBOb",
        "outputId": "79c05764-739d-430c-b694-3ceb69c60b47"
      },
      "source": [
        "fish_target = [1]*35 + [0]*14\n",
        "fish_target"
      ],
      "execution_count": null,
      "outputs": [
        {
          "output_type": "execute_result",
          "data": {
            "text/plain": [
              "[1,\n",
              " 1,\n",
              " 1,\n",
              " 1,\n",
              " 1,\n",
              " 1,\n",
              " 1,\n",
              " 1,\n",
              " 1,\n",
              " 1,\n",
              " 1,\n",
              " 1,\n",
              " 1,\n",
              " 1,\n",
              " 1,\n",
              " 1,\n",
              " 1,\n",
              " 1,\n",
              " 1,\n",
              " 1,\n",
              " 1,\n",
              " 1,\n",
              " 1,\n",
              " 1,\n",
              " 1,\n",
              " 1,\n",
              " 1,\n",
              " 1,\n",
              " 1,\n",
              " 1,\n",
              " 1,\n",
              " 1,\n",
              " 1,\n",
              " 1,\n",
              " 1,\n",
              " 0,\n",
              " 0,\n",
              " 0,\n",
              " 0,\n",
              " 0,\n",
              " 0,\n",
              " 0,\n",
              " 0,\n",
              " 0,\n",
              " 0,\n",
              " 0,\n",
              " 0,\n",
              " 0,\n",
              " 0]"
            ]
          },
          "metadata": {
            "tags": []
          },
          "execution_count": 11
        }
      ]
    },
    {
      "cell_type": "code",
      "metadata": {
        "id": "ZQT1IMSYb-1K"
      },
      "source": [
        "# k-최근접 이웃 알고리즘 구현을 위한 사이킷런 패키지 임포트\n",
        "from sklearn.neighbors import KNeighborsClassifier"
      ],
      "execution_count": null,
      "outputs": []
    },
    {
      "cell_type": "code",
      "metadata": {
        "colab": {
          "base_uri": "https://localhost:8080/"
        },
        "id": "5MNoo2kQccUw",
        "outputId": "f4bf136c-03d4-45c1-eb9e-a05ff6142cab"
      },
      "source": [
        "kn = KNeighborsClassifier()\n",
        "kn.fit(fish_data,fish_target)"
      ],
      "execution_count": null,
      "outputs": [
        {
          "output_type": "execute_result",
          "data": {
            "text/plain": [
              "KNeighborsClassifier(algorithm='auto', leaf_size=30, metric='minkowski',\n",
              "                     metric_params=None, n_jobs=None, n_neighbors=5, p=2,\n",
              "                     weights='uniform')"
            ]
          },
          "metadata": {
            "tags": []
          },
          "execution_count": 13
        }
      ]
    },
    {
      "cell_type": "code",
      "metadata": {
        "colab": {
          "base_uri": "https://localhost:8080/"
        },
        "id": "gep9JU5LcseF",
        "outputId": "c35d4089-cd6d-434b-d138-f0c8fd888c63"
      },
      "source": [
        "kn.score(fish_data,fish_target)"
      ],
      "execution_count": null,
      "outputs": [
        {
          "output_type": "execute_result",
          "data": {
            "text/plain": [
              "1.0"
            ]
          },
          "metadata": {
            "tags": []
          },
          "execution_count": 14
        }
      ]
    },
    {
      "cell_type": "code",
      "metadata": {
        "colab": {
          "base_uri": "https://localhost:8080/"
        },
        "id": "rJ-gzcWCcz6M",
        "outputId": "7f3838e3-94db-4330-fda8-531a405976fe"
      },
      "source": [
        "kn.predict([[30,600]])"
      ],
      "execution_count": null,
      "outputs": [
        {
          "output_type": "execute_result",
          "data": {
            "text/plain": [
              "array([1])"
            ]
          },
          "metadata": {
            "tags": []
          },
          "execution_count": 15
        }
      ]
    },
    {
      "cell_type": "markdown",
      "metadata": {
        "id": "m87cW8n_dPNK"
      },
      "source": [
        "\n",
        "\n",
        "*   score는 정확도를 뜻하며 범위는 0~1이다.\n",
        "*   1에 가까울 수록 정확도 100%라는 뜻인데, 이 모델의 경우 정확도 100%를 보여주고 있다.\n",
        "*   predict는 새로운 값을 대입했을 때, 어느 집단에 속할지 예측해주는 것이다.\n",
        "\n",
        "*   길이 30, 무게 600에 대한 값은 1 즉, 도미로 예측하고있다.\n",
        "\n",
        "\n",
        "\n"
      ]
    },
    {
      "cell_type": "markdown",
      "metadata": {
        "id": "OQB7r4iTenVO"
      },
      "source": [
        "---"
      ]
    },
    {
      "cell_type": "markdown",
      "metadata": {
        "id": "V1xbAVFEep_7"
      },
      "source": [
        "## K-최근접 알고리즘 설명\n",
        "##### 이 알고리즘은 기본적으로 데이터가 모두 준비되어 있어야 한다.\n",
        "##### 데이터가 아주 많은 경우 이용하기 어렵다.\n",
        "##### fit()메서드에 전달한 데이터를 모두 저장하고 있다가 새로운 데이터가 등장하면 가장 가까운 데이터를 참고하여 도미인지 빙어인지 구분한다.\n",
        "##### 가까운 몇 개의 데이터를 참고할지는 정하기 나름이나, 기본값은 5이다."
      ]
    },
    {
      "cell_type": "markdown",
      "metadata": {
        "id": "vJ9SOls3flk7"
      },
      "source": [
        "*기본값을 데이터 전체 개수인 49로 바꿔보면?*"
      ]
    },
    {
      "cell_type": "code",
      "metadata": {
        "colab": {
          "base_uri": "https://localhost:8080/"
        },
        "id": "1qrYl3ZpdpTQ",
        "outputId": "755c3a2f-c3f3-4f8e-a85c-4806d103cac2"
      },
      "source": [
        "kn49 = KNeighborsClassifier(n_neighbors=49) #kn49 모델 생성\n",
        "kn49.fit(fish_data,fish_target)"
      ],
      "execution_count": null,
      "outputs": [
        {
          "output_type": "execute_result",
          "data": {
            "text/plain": [
              "KNeighborsClassifier(algorithm='auto', leaf_size=30, metric='minkowski',\n",
              "                     metric_params=None, n_jobs=None, n_neighbors=49, p=2,\n",
              "                     weights='uniform')"
            ]
          },
          "metadata": {
            "tags": []
          },
          "execution_count": 16
        }
      ]
    },
    {
      "cell_type": "code",
      "metadata": {
        "colab": {
          "base_uri": "https://localhost:8080/"
        },
        "id": "tOGUcJCKf9hz",
        "outputId": "615d2fe0-46ce-4617-d794-21d835acbdd1"
      },
      "source": [
        "kn49.score(fish_data,fish_target) #kn49 모델의 정확도"
      ],
      "execution_count": null,
      "outputs": [
        {
          "output_type": "execute_result",
          "data": {
            "text/plain": [
              "0.7142857142857143"
            ]
          },
          "metadata": {
            "tags": []
          },
          "execution_count": 17
        }
      ]
    },
    {
      "cell_type": "code",
      "metadata": {
        "colab": {
          "base_uri": "https://localhost:8080/"
        },
        "id": "qzSWnS3mgCK2",
        "outputId": "0244bd37-c10d-4c7f-d803-4d3104637d25"
      },
      "source": [
        "kn49.predict([[30,600]])"
      ],
      "execution_count": null,
      "outputs": [
        {
          "output_type": "execute_result",
          "data": {
            "text/plain": [
              "array([1])"
            ]
          },
          "metadata": {
            "tags": []
          },
          "execution_count": 18
        }
      ]
    },
    {
      "cell_type": "markdown",
      "metadata": {
        "id": "Ik73uPrMgaaE"
      },
      "source": [
        "\n",
        "\n",
        "*   이전 모델(n_neighbors=5가 기본값인 모델)보다 정확도가 떨어진다.\n",
        "*   이 값은 35/49(도미의 수 / 전체 생선 수) 값과 같다. \n",
        "*   주변 데이터 5개만 봤으면 5개 모두 도미 데이터라 정확도가 1이 나온 것!\n",
        "\n",
        "\n",
        "\n"
      ]
    },
    {
      "cell_type": "markdown",
      "metadata": {
        "id": "GyddcgaVi0CK"
      },
      "source": [
        "---"
      ]
    },
    {
      "cell_type": "markdown",
      "metadata": {
        "id": "_jMaTCD0invt"
      },
      "source": [
        "# 생선 분류 문제02"
      ]
    },
    {
      "cell_type": "markdown",
      "metadata": {
        "id": "szVNv6V4_A_D"
      },
      "source": [
        "## 훈련 세트와 테스트 세트"
      ]
    },
    {
      "cell_type": "code",
      "metadata": {
        "colab": {
          "base_uri": "https://localhost:8080/"
        },
        "id": "5nh0jEf0izVd",
        "outputId": "3a0edbef-cdfd-4ddc-a9d8-b4a97d23f792"
      },
      "source": [
        "fish_data # 해당 데이터 중 처음 35개를 훈련 셋, 나머지 14개를 테스트 셋으로 설정"
      ],
      "execution_count": null,
      "outputs": [
        {
          "output_type": "execute_result",
          "data": {
            "text/plain": [
              "[[25.4, 242.0],\n",
              " [26.3, 290.0],\n",
              " [26.5, 340.0],\n",
              " [29.0, 363.0],\n",
              " [29.0, 430.0],\n",
              " [29.7, 450.0],\n",
              " [29.7, 500.0],\n",
              " [30.0, 390.0],\n",
              " [30.0, 450.0],\n",
              " [30.7, 500.0],\n",
              " [31.0, 475.0],\n",
              " [31.0, 500.0],\n",
              " [31.5, 500.0],\n",
              " [32.0, 340.0],\n",
              " [32.0, 600.0],\n",
              " [32.0, 600.0],\n",
              " [33.0, 700.0],\n",
              " [33.0, 700.0],\n",
              " [33.5, 610.0],\n",
              " [33.5, 650.0],\n",
              " [34.0, 575.0],\n",
              " [34.0, 685.0],\n",
              " [34.5, 620.0],\n",
              " [35.0, 680.0],\n",
              " [35.0, 700.0],\n",
              " [35.0, 725.0],\n",
              " [35.0, 720.0],\n",
              " [36.0, 714.0],\n",
              " [36.0, 850.0],\n",
              " [37.0, 1000.0],\n",
              " [38.5, 920.0],\n",
              " [38.5, 955.0],\n",
              " [39.5, 925.0],\n",
              " [41.0, 975.0],\n",
              " [41.0, 950.0],\n",
              " [9.8, 6.7],\n",
              " [10.5, 7.5],\n",
              " [10.6, 7.0],\n",
              " [11.0, 9.7],\n",
              " [11.2, 9.8],\n",
              " [11.3, 8.7],\n",
              " [11.8, 10.0],\n",
              " [11.8, 9.9],\n",
              " [12.0, 9.8],\n",
              " [12.2, 12.2],\n",
              " [12.4, 13.4],\n",
              " [13.0, 12.2],\n",
              " [14.3, 19.7],\n",
              " [15.0, 19.9]]"
            ]
          },
          "metadata": {
            "tags": []
          },
          "execution_count": 19
        }
      ]
    },
    {
      "cell_type": "code",
      "metadata": {
        "id": "ddQq927qjfj_"
      },
      "source": [
        "# 훈련 셋(학습 시킬 데이터)\n",
        "train_input = fish_data[:35]\n",
        "train_target = fish_target[:35]\n",
        "\n",
        "# 테스트 셋(생성된 모델 검증 데이터)\n",
        "test_input = fish_data[35:]\n",
        "test_target = fish_target[35:]"
      ],
      "execution_count": null,
      "outputs": []
    },
    {
      "cell_type": "code",
      "metadata": {
        "id": "zifzy4CikVth"
      },
      "source": [
        "kn = kn.fit(train_input,train_target)"
      ],
      "execution_count": null,
      "outputs": []
    },
    {
      "cell_type": "code",
      "metadata": {
        "colab": {
          "base_uri": "https://localhost:8080/"
        },
        "id": "OiHP8BSOklCK",
        "outputId": "a868ff29-5691-4115-be4c-d4d874cdae04"
      },
      "source": [
        "kn.score(test_input,test_target)"
      ],
      "execution_count": null,
      "outputs": [
        {
          "output_type": "execute_result",
          "data": {
            "text/plain": [
              "0.0"
            ]
          },
          "metadata": {
            "tags": []
          },
          "execution_count": 22
        }
      ]
    },
    {
      "cell_type": "markdown",
      "metadata": {
        "id": "tL1j2mGXlOoT"
      },
      "source": [
        "\n",
        "\n",
        "*   train과 test를 나눌때 35개,14개로 나누었는데, 이렇게 나누면 도미와 빙어 데이터가 적절하게 섞이지 않아 데이터의 편향(샘플링 편향)이 발생한다.\n",
        "*   이를 해결하기위해 무작위로 샘플을 고르는 방식으로 다시 데이터를 나누겠다.\n",
        "\n"
      ]
    },
    {
      "cell_type": "markdown",
      "metadata": {
        "id": "pGHP-vMwl4p1"
      },
      "source": [
        "## 샘플링 편향\n",
        "**우선 2차원 리스트를 2차원 넘파이 배열로 변환**\n",
        "###### 보통의 xy좌표계는 시작점이 왼쪽 아래이나 배열은 왼쪽 위부터 시작하여 고차원 배열을 다룰 때 편리하다."
      ]
    },
    {
      "cell_type": "code",
      "metadata": {
        "colab": {
          "base_uri": "https://localhost:8080/"
        },
        "id": "nTLYVPDzk_H0",
        "outputId": "b11a7917-03b2-4f42-c655-bb9f5b96cb88"
      },
      "source": [
        "import numpy as np\n",
        "\n",
        "input_arr = np.array(fish_data)\n",
        "target_arr = np.array(fish_target)\n",
        "\n",
        "input_arr"
      ],
      "execution_count": null,
      "outputs": [
        {
          "output_type": "execute_result",
          "data": {
            "text/plain": [
              "array([[  25.4,  242. ],\n",
              "       [  26.3,  290. ],\n",
              "       [  26.5,  340. ],\n",
              "       [  29. ,  363. ],\n",
              "       [  29. ,  430. ],\n",
              "       [  29.7,  450. ],\n",
              "       [  29.7,  500. ],\n",
              "       [  30. ,  390. ],\n",
              "       [  30. ,  450. ],\n",
              "       [  30.7,  500. ],\n",
              "       [  31. ,  475. ],\n",
              "       [  31. ,  500. ],\n",
              "       [  31.5,  500. ],\n",
              "       [  32. ,  340. ],\n",
              "       [  32. ,  600. ],\n",
              "       [  32. ,  600. ],\n",
              "       [  33. ,  700. ],\n",
              "       [  33. ,  700. ],\n",
              "       [  33.5,  610. ],\n",
              "       [  33.5,  650. ],\n",
              "       [  34. ,  575. ],\n",
              "       [  34. ,  685. ],\n",
              "       [  34.5,  620. ],\n",
              "       [  35. ,  680. ],\n",
              "       [  35. ,  700. ],\n",
              "       [  35. ,  725. ],\n",
              "       [  35. ,  720. ],\n",
              "       [  36. ,  714. ],\n",
              "       [  36. ,  850. ],\n",
              "       [  37. , 1000. ],\n",
              "       [  38.5,  920. ],\n",
              "       [  38.5,  955. ],\n",
              "       [  39.5,  925. ],\n",
              "       [  41. ,  975. ],\n",
              "       [  41. ,  950. ],\n",
              "       [   9.8,    6.7],\n",
              "       [  10.5,    7.5],\n",
              "       [  10.6,    7. ],\n",
              "       [  11. ,    9.7],\n",
              "       [  11.2,    9.8],\n",
              "       [  11.3,    8.7],\n",
              "       [  11.8,   10. ],\n",
              "       [  11.8,    9.9],\n",
              "       [  12. ,    9.8],\n",
              "       [  12.2,   12.2],\n",
              "       [  12.4,   13.4],\n",
              "       [  13. ,   12.2],\n",
              "       [  14.3,   19.7],\n",
              "       [  15. ,   19.9]])"
            ]
          },
          "metadata": {
            "tags": []
          },
          "execution_count": 23
        }
      ]
    },
    {
      "cell_type": "code",
      "metadata": {
        "colab": {
          "base_uri": "https://localhost:8080/"
        },
        "id": "ynV2SPmlmnnK",
        "outputId": "cae8509d-322e-4fef-ed19-b279c3fb8cff"
      },
      "source": [
        "input_arr.shape #(샘플 수, 특성 수)"
      ],
      "execution_count": null,
      "outputs": [
        {
          "output_type": "execute_result",
          "data": {
            "text/plain": [
              "(49, 2)"
            ]
          },
          "metadata": {
            "tags": []
          },
          "execution_count": 24
        }
      ]
    },
    {
      "cell_type": "code",
      "metadata": {
        "colab": {
          "base_uri": "https://localhost:8080/"
        },
        "id": "XkxWyQaCmwdF",
        "outputId": "b8aad4f9-d5ec-48b2-97ac-0fdeb69a3580"
      },
      "source": [
        "# 데이터의 인덱스를 무작위로 섞기\n",
        "np.random.seed(42) #seed를 42로 고정\n",
        "index = np.arange(49) #0부터 48까지 1씩 증가하는 배열 생성\n",
        "np.random.shuffle(index) # 주어진 index를 무작위로 섞음\n",
        "\n",
        "index"
      ],
      "execution_count": null,
      "outputs": [
        {
          "output_type": "execute_result",
          "data": {
            "text/plain": [
              "array([13, 45, 47, 44, 17, 27, 26, 25, 31, 19, 12,  4, 34,  8,  3,  6, 40,\n",
              "       41, 46, 15,  9, 16, 24, 33, 30,  0, 43, 32,  5, 29, 11, 36,  1, 21,\n",
              "        2, 37, 35, 23, 39, 10, 22, 18, 48, 20,  7, 42, 14, 28, 38])"
            ]
          },
          "metadata": {
            "tags": []
          },
          "execution_count": 25
        }
      ]
    },
    {
      "cell_type": "code",
      "metadata": {
        "id": "eyY5Q80pnp1s"
      },
      "source": [
        "# 무작위로 섞인 인덱스로 데이터도 무작위로 섞기\n",
        "train_input = input_arr[index[:35]]\n",
        "train_target = target_arr[index[:35]]\n",
        "\n",
        "test_input = input_arr[index[35:]]\n",
        "test_target = target_arr[index[35:]]"
      ],
      "execution_count": null,
      "outputs": []
    },
    {
      "cell_type": "markdown",
      "metadata": {
        "id": "HnBTgrAXou6F"
      },
      "source": [
        "## 산점도(Scatter Plot)"
      ]
    },
    {
      "cell_type": "code",
      "metadata": {
        "colab": {
          "base_uri": "https://localhost:8080/",
          "height": 279
        },
        "id": "r3l4KSAXotEP",
        "outputId": "48fc0724-aff9-43d1-923e-c94c5fbc290c"
      },
      "source": [
        "plt.scatter(train_input[:,0],train_input[:,1]) # test셋에서 길이와 무게를 각각 x,y로 둠\n",
        "plt.scatter(test_input[:,0],test_input[:,1])\n",
        "plt.xlabel('length')\n",
        "plt.ylabel('weigth')\n",
        "plt.show()"
      ],
      "execution_count": null,
      "outputs": [
        {
          "output_type": "display_data",
          "data": {
            "image/png": "[encoded data removed]",
            "text/plain": [
              "<Figure size 432x288 with 1 Axes>"
            ]
          },
          "metadata": {
            "tags": [],
            "needs_background": "light"
          }
        }
      ]
    },
    {
      "cell_type": "markdown",
      "metadata": {
        "id": "FBT8phxNpj07"
      },
      "source": [
        "*   파랑색 - 훈련 셋 / 주황색 - 테스트 셋\n",
        "*   훈련 셋과 테스트 셋이 적절하게 섞여있는 것을 알 수 있다."
      ]
    },
    {
      "cell_type": "markdown",
      "metadata": {
        "id": "e99fpOqQqB4P"
      },
      "source": [
        "## K-최근접 알고리즘"
      ]
    },
    {
      "cell_type": "code",
      "metadata": {
        "colab": {
          "base_uri": "https://localhost:8080/"
        },
        "id": "jOb5o7cNp2Fb",
        "outputId": "821d9a7e-e8a6-4070-8b7e-a6a8c0d1ae15"
      },
      "source": [
        "kn = kn.fit(train_input,train_target)\n",
        "kn.score(test_input,test_target)"
      ],
      "execution_count": null,
      "outputs": [
        {
          "output_type": "execute_result",
          "data": {
            "text/plain": [
              "1.0"
            ]
          },
          "metadata": {
            "tags": []
          },
          "execution_count": 28
        }
      ]
    },
    {
      "cell_type": "code",
      "metadata": {
        "colab": {
          "base_uri": "https://localhost:8080/"
        },
        "id": "AlgNZY3xqO0O",
        "outputId": "7e40c457-64ad-4336-9e9d-3a37f7396270"
      },
      "source": [
        "kn.predict(test_input) # 예측값"
      ],
      "execution_count": null,
      "outputs": [
        {
          "output_type": "execute_result",
          "data": {
            "text/plain": [
              "array([0, 0, 1, 0, 1, 1, 1, 0, 1, 1, 0, 1, 1, 0])"
            ]
          },
          "metadata": {
            "tags": []
          },
          "execution_count": 29
        }
      ]
    },
    {
      "cell_type": "code",
      "metadata": {
        "colab": {
          "base_uri": "https://localhost:8080/"
        },
        "id": "6VvfNhXkqWT8",
        "outputId": "60907547-0875-4a2a-97bb-03d1101c184e"
      },
      "source": [
        "test_target # 실제값"
      ],
      "execution_count": null,
      "outputs": [
        {
          "output_type": "execute_result",
          "data": {
            "text/plain": [
              "array([0, 0, 1, 0, 1, 1, 1, 0, 1, 1, 0, 1, 1, 0])"
            ]
          },
          "metadata": {
            "tags": []
          },
          "execution_count": 30
        }
      ]
    },
    {
      "cell_type": "markdown",
      "metadata": {
        "id": "wt2MG9Ohqjjf"
      },
      "source": [
        "*   정확도 1 = 정확도 100%\n",
        "*   예측값과 실제값이 일치하는 것을 볼 수 있다.\n"
      ]
    },
    {
      "cell_type": "markdown",
      "metadata": {
        "id": "sy3BtXod9ZaR"
      },
      "source": [
        "---"
      ]
    },
    {
      "cell_type": "markdown",
      "metadata": {
        "id": "7FLXRcWU9b8L"
      },
      "source": [
        "# 생선 분류 문제03\n",
        "### 데이터 전처리로 오류값 바로잡기 (fish_data도 새로 생성)\n",
        "##### 길이 25cm, 무게 150g 도미를 '빙어'라고 예측하는 오류가 발생\n",
        "##### 데이터 전처리를 진행하지 않아서 발생하는 문제"
      ]
    },
    {
      "cell_type": "code",
      "metadata": {
        "colab": {
          "base_uri": "https://localhost:8080/"
        },
        "id": "1Xs2V6Ct8N4W",
        "outputId": "ee19db82-81f6-427f-d6a4-6e067868130d"
      },
      "source": [
        "#column_stack() 함수는 리스트를 열기준으로 병합한 후 튜플로 반환한다. -> 튜플은 수정,삭제 등 불가\n",
        "fish_data = np.column_stack((length,weigth))\n",
        "fish_data"
      ],
      "execution_count": null,
      "outputs": [
        {
          "output_type": "execute_result",
          "data": {
            "text/plain": [
              "array([[  25.4,  242. ],\n",
              "       [  26.3,  290. ],\n",
              "       [  26.5,  340. ],\n",
              "       [  29. ,  363. ],\n",
              "       [  29. ,  430. ],\n",
              "       [  29.7,  450. ],\n",
              "       [  29.7,  500. ],\n",
              "       [  30. ,  390. ],\n",
              "       [  30. ,  450. ],\n",
              "       [  30.7,  500. ],\n",
              "       [  31. ,  475. ],\n",
              "       [  31. ,  500. ],\n",
              "       [  31.5,  500. ],\n",
              "       [  32. ,  340. ],\n",
              "       [  32. ,  600. ],\n",
              "       [  32. ,  600. ],\n",
              "       [  33. ,  700. ],\n",
              "       [  33. ,  700. ],\n",
              "       [  33.5,  610. ],\n",
              "       [  33.5,  650. ],\n",
              "       [  34. ,  575. ],\n",
              "       [  34. ,  685. ],\n",
              "       [  34.5,  620. ],\n",
              "       [  35. ,  680. ],\n",
              "       [  35. ,  700. ],\n",
              "       [  35. ,  725. ],\n",
              "       [  35. ,  720. ],\n",
              "       [  36. ,  714. ],\n",
              "       [  36. ,  850. ],\n",
              "       [  37. , 1000. ],\n",
              "       [  38.5,  920. ],\n",
              "       [  38.5,  955. ],\n",
              "       [  39.5,  925. ],\n",
              "       [  41. ,  975. ],\n",
              "       [  41. ,  950. ],\n",
              "       [   9.8,    6.7],\n",
              "       [  10.5,    7.5],\n",
              "       [  10.6,    7. ],\n",
              "       [  11. ,    9.7],\n",
              "       [  11.2,    9.8],\n",
              "       [  11.3,    8.7],\n",
              "       [  11.8,   10. ],\n",
              "       [  11.8,    9.9],\n",
              "       [  12. ,    9.8],\n",
              "       [  12.2,   12.2],\n",
              "       [  12.4,   13.4],\n",
              "       [  13. ,   12.2],\n",
              "       [  14.3,   19.7],\n",
              "       [  15. ,   19.9]])"
            ]
          },
          "metadata": {
            "tags": []
          },
          "execution_count": 31
        }
      ]
    },
    {
      "cell_type": "markdown",
      "metadata": {
        "id": "KBqjWQJh_y8o"
      },
      "source": [
        "## 넘파이로 데이터 준비하기"
      ]
    },
    {
      "cell_type": "code",
      "metadata": {
        "id": "iTf5z4Rq-JP6"
      },
      "source": [
        "fish_target = np.concatenate((np.ones(35),np.zeros(14)))"
      ],
      "execution_count": null,
      "outputs": []
    },
    {
      "cell_type": "markdown",
      "metadata": {
        "id": "XuQtf8FFAQNY"
      },
      "source": [
        "## 훈련 세트와 테스트 세트\n",
        ">\n",
        "*사이킷런 사용*\n",
        "*훈련 셋 35개 테스트 셋 13개로 나뉘어짐*"
      ]
    },
    {
      "cell_type": "code",
      "metadata": {
        "id": "dRf_tkfM__fS"
      },
      "source": [
        "from sklearn.model_selection import train_test_split\n",
        "\n",
        "train_input,test_input,train_target,test_target = train_test_split(fish_data,fish_target,random_state=42)"
      ],
      "execution_count": null,
      "outputs": []
    },
    {
      "cell_type": "code",
      "metadata": {
        "colab": {
          "base_uri": "https://localhost:8080/"
        },
        "id": "QP6wc29TBACz",
        "outputId": "e0345adc-ae69-4ae8-f797-6899439ed0c8"
      },
      "source": [
        "print(train_input.shape,test_input.shape)"
      ],
      "execution_count": null,
      "outputs": [
        {
          "output_type": "stream",
          "text": [
            "(36, 2) (13, 2)\n"
          ],
          "name": "stdout"
        }
      ]
    },
    {
      "cell_type": "code",
      "metadata": {
        "colab": {
          "base_uri": "https://localhost:8080/"
        },
        "id": "9M23ikmeBdqh",
        "outputId": "1b0be1d1-a3d7-401a-a58c-ed8d0544a42c"
      },
      "source": [
        "print(train_target.shape,test_target.shape)"
      ],
      "execution_count": null,
      "outputs": [
        {
          "output_type": "stream",
          "text": [
            "(36,) (13,)\n"
          ],
          "name": "stdout"
        }
      ]
    },
    {
      "cell_type": "code",
      "metadata": {
        "colab": {
          "base_uri": "https://localhost:8080/"
        },
        "id": "0zhqKo5JBlaE",
        "outputId": "9d4bd1c4-805c-4518-e556-89538ded68bc"
      },
      "source": [
        "print(test_target)"
      ],
      "execution_count": null,
      "outputs": [
        {
          "output_type": "stream",
          "text": [
            "[1. 0. 0. 0. 1. 1. 1. 1. 1. 1. 1. 1. 1.]\n"
          ],
          "name": "stdout"
        }
      ]
    },
    {
      "cell_type": "markdown",
      "metadata": {
        "id": "o7hMnQfOCQFF"
      },
      "source": [
        "\n",
        "*   test_target을 보면 데스트 셋 13개 중 빙어가 3마리 밖에 없다.\n",
        "*   원래 도미:빙어 = 35:14 = 2.5:1 정도인데 test_target에서는 도미:빙어 = 3.3:1 정도이다.\n",
        "*   샘플링 편향이 조금 나타다고 있으므로 골고루 다시 섞을 필요가있다.\n",
        "*   stratify=fish_target을 추가해서 클래스 비율에 맞게 데이터를 나누도록 함"
      ]
    },
    {
      "cell_type": "code",
      "metadata": {
        "colab": {
          "base_uri": "https://localhost:8080/"
        },
        "id": "yAuZ1JCKCNXR",
        "outputId": "3faeb507-2525-43d3-f99f-377e07ea0350"
      },
      "source": [
        "train_input,test_input,train_target,test_target = train_test_split(fish_data,fish_target,stratify=fish_target,random_state=42)\n",
        "print(test_target) # 도미:빙어 = 9:4 = 2.25:1 로 2.5:1과 얼추 비슷하게 맞춰짐"
      ],
      "execution_count": null,
      "outputs": [
        {
          "output_type": "stream",
          "text": [
            "[0. 0. 1. 0. 1. 0. 1. 1. 1. 1. 1. 1. 1.]\n"
          ],
          "name": "stdout"
        }
      ]
    },
    {
      "cell_type": "code",
      "metadata": {
        "colab": {
          "base_uri": "https://localhost:8080/"
        },
        "id": "3IhpD7RnFT4O",
        "outputId": "57a8eb17-0e54-4574-a688-9c907499815d"
      },
      "source": [
        "kn.fit(train_input,train_target)\n",
        "kn.score(test_input,test_target)"
      ],
      "execution_count": null,
      "outputs": [
        {
          "output_type": "execute_result",
          "data": {
            "text/plain": [
              "1.0"
            ]
          },
          "metadata": {
            "tags": []
          },
          "execution_count": 38
        }
      ]
    },
    {
      "cell_type": "markdown",
      "metadata": {
        "id": "gVQqXRQT6-l_"
      },
      "source": [
        "## 수상한 도미 한 마리"
      ]
    },
    {
      "cell_type": "code",
      "metadata": {
        "colab": {
          "base_uri": "https://localhost:8080/"
        },
        "id": "WQ8XrPMeFd_s",
        "outputId": "7dfad9fd-89de-4918-f41e-2c799509c277"
      },
      "source": [
        "kn.predict([[25,150]])"
      ],
      "execution_count": null,
      "outputs": [
        {
          "output_type": "execute_result",
          "data": {
            "text/plain": [
              "array([0.])"
            ]
          },
          "metadata": {
            "tags": []
          },
          "execution_count": 39
        }
      ]
    },
    {
      "cell_type": "markdown",
      "metadata": {
        "id": "MqjJ1EAfFigA"
      },
      "source": [
        "*   길이 25, 무게150인 생선을 0 즉, 도미가 아닌 빙어로 예측함"
      ]
    },
    {
      "cell_type": "markdown",
      "metadata": {
        "id": "ZAvPj3aMEb20"
      },
      "source": [
        "### 산점도(Scatter Plot)\n",
        "##### 길이 25, 무게 150인 데이터의 위치를 확인"
      ]
    },
    {
      "cell_type": "code",
      "metadata": {
        "colab": {
          "base_uri": "https://localhost:8080/",
          "height": 279
        },
        "id": "LHEIrf43DMgF",
        "outputId": "c4e17673-fa44-41d1-973f-077afda51f96"
      },
      "source": [
        "plt.scatter(train_input[:,0],train_input[:,1]) \n",
        "plt.scatter(25,150,marker='^')\n",
        "plt.xlabel('length')\n",
        "plt.ylabel('weigth')\n",
        "plt.show()"
      ],
      "execution_count": null,
      "outputs": [
        {
          "output_type": "display_data",
          "data": {
            "image/png": "[encoded data removed]",
            "text/plain": [
              "<Figure size 432x288 with 1 Axes>"
            ]
          },
          "metadata": {
            "tags": [],
            "needs_background": "light"
          }
        }
      ]
    },
    {
      "cell_type": "markdown",
      "metadata": {
        "id": "n7HXagftFyIJ"
      },
      "source": [
        "\n",
        "\n",
        "*   위치를 봤을 땐, 빙어보단 도미 데이터에 가깝다는 것을 알 수 있다.\n",
        "*   클래스 이웃 개수를 기본값인 5로 설정하여 이와 같은 현상이 발생\n",
        "*   길이25, 무게150인 도미에 근접한 5개의 값을 확인해보자\n",
        "\n",
        "\n"
      ]
    },
    {
      "cell_type": "code",
      "metadata": {
        "id": "ngjWtayzFFGq"
      },
      "source": [
        "distances, indexes = kn.kneighbors([[25,150]])"
      ],
      "execution_count": null,
      "outputs": []
    },
    {
      "cell_type": "code",
      "metadata": {
        "colab": {
          "base_uri": "https://localhost:8080/",
          "height": 279
        },
        "id": "l_Ci7uLx7rYK",
        "outputId": "c23b1059-7020-4165-edc5-f28cb91faf3c"
      },
      "source": [
        "plt.scatter(train_input[:,0],train_input[:,1])\n",
        "plt.scatter(25,150,marker='^')\n",
        "plt.scatter(train_input[indexes,0],train_input[indexes,1],marker='D')\n",
        "plt.xlabel('length')\n",
        "plt.ylabel('weigth')\n",
        "plt.show()"
      ],
      "execution_count": null,
      "outputs": [
        {
          "output_type": "display_data",
          "data": {
            "image/png": "[encoded data removed]",
            "text/plain": [
              "<Figure size 432x288 with 1 Axes>"
            ]
          },
          "metadata": {
            "tags": [],
            "needs_background": "light"
          }
        }
      ]
    },
    {
      "cell_type": "code",
      "metadata": {
        "colab": {
          "base_uri": "https://localhost:8080/"
        },
        "id": "iWp1l__c9Vqd",
        "outputId": "b7f9722c-d423-45ba-ece4-aa8857c4c593"
      },
      "source": [
        "print(train_input[indexes])"
      ],
      "execution_count": null,
      "outputs": [
        {
          "output_type": "stream",
          "text": [
            "[[[ 25.4 242. ]\n",
            "  [ 15.   19.9]\n",
            "  [ 14.3  19.7]\n",
            "  [ 13.   12.2]\n",
            "  [ 12.2  12.2]]]\n"
          ],
          "name": "stdout"
        }
      ]
    },
    {
      "cell_type": "code",
      "metadata": {
        "colab": {
          "base_uri": "https://localhost:8080/"
        },
        "id": "kd-oKNdS9ezK",
        "outputId": "69c24764-9e74-473a-a5d4-6405f72594da"
      },
      "source": [
        "print(train_target[indexes])"
      ],
      "execution_count": null,
      "outputs": [
        {
          "output_type": "stream",
          "text": [
            "[[1. 0. 0. 0. 0.]]\n"
          ],
          "name": "stdout"
        }
      ]
    },
    {
      "cell_type": "markdown",
      "metadata": {
        "id": "TwkAVhL49HIA"
      },
      "source": [
        "\n",
        "\n",
        "*   가장 가까운 이웃 5개(초로색 마름모) 중 도미는 1개만 추출되었다. \n",
        "*   따라서 이를 도미가 아닌 빙어로 판별하는 것이다.\n",
        "\n"
      ]
    },
    {
      "cell_type": "markdown",
      "metadata": {
        "id": "TC4KkmV79qau"
      },
      "source": [
        "## 기준을 맞춰라"
      ]
    },
    {
      "cell_type": "code",
      "metadata": {
        "colab": {
          "base_uri": "https://localhost:8080/"
        },
        "id": "u2WJnfaT8izA",
        "outputId": "ef204ff4-f910-462d-c1f9-b4825a498773"
      },
      "source": [
        "print(distances)"
      ],
      "execution_count": null,
      "outputs": [
        {
          "output_type": "stream",
          "text": [
            "[[ 92.00086956 130.48375378 130.73859415 138.32150953 138.39320793]]\n"
          ],
          "name": "stdout"
        }
      ]
    },
    {
      "cell_type": "markdown",
      "metadata": {
        "id": "CqI8X4CuAdNG"
      },
      "source": [
        "\n",
        "\n",
        "*   distances와 그림을 비교해보자.\n",
        "*   가장 가까운 도미와는 거리가 92고, 가장 가까운 빙어와의 거리는 130.5\n",
        "*   근데 그림으로 봤을 때, 92와 130.5의 거리가 이상하다.\n",
        "\n",
        "![스크린샷 2021-04-02 오전 9.37.23.png](data:image/png;base64,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)\n",
        "*   이는 x축은 범위가 좁고(10-40), y축은 범위가 넓어서(0-1000) 그런 것\n",
        "*   그래서 y축으로 조금만 멀어져도 거리가 아주 큰 값으로 계산된다. \n",
        "*   x축과 y축의 범위를 동일하게 맞추어 샘플링 편향 문제를 해결하자\n",
        "\n",
        "\n",
        "\n",
        "\n",
        "\n"
      ]
    },
    {
      "cell_type": "markdown",
      "metadata": {
        "id": "YpcKmq1SCeRN"
      },
      "source": [
        "### 산점도(Scatter Plot)"
      ]
    },
    {
      "cell_type": "code",
      "metadata": {
        "colab": {
          "base_uri": "https://localhost:8080/",
          "height": 279
        },
        "id": "YbWPbzbsAb_l",
        "outputId": "ad4c2259-f5f1-4089-b867-6f4f83039f0c"
      },
      "source": [
        "plt.scatter(train_input[:,0],train_input[:,1])\n",
        "plt.scatter(25,150,marker='^')\n",
        "plt.scatter(train_input[indexes,0],train_input[indexes,1],marker='D')\n",
        "plt.xlim((0,1000))\n",
        "plt.xlabel('length')\n",
        "plt.ylabel('weigth')\n",
        "plt.show()"
      ],
      "execution_count": null,
      "outputs": [
        {
          "output_type": "display_data",
          "data": {
            "image/png": "[encoded data removed]",
            "text/plain": [
              "<Figure size 432x288 with 1 Axes>"
            ]
          },
          "metadata": {
            "tags": [],
            "needs_background": "light"
          }
        }
      ]
    },
    {
      "cell_type": "markdown",
      "metadata": {
        "id": "TAuLMpJsC27m"
      },
      "source": [
        "\n",
        "\n",
        "*   산점도가 거의 일직선으로 나타나는 것으로 보아, 생선의 길이(x축)는 가장 가까운 이웃을 찾는 데 크게 영향을 미치지 못한다.\n",
        "*   오로지 생선의 무게(y축)만 고려 대상이 된다.\n",
        "*   즉, 두 특성의 스케일(scale)이 다르다.\n",
        "\n",
        "\n"
      ]
    },
    {
      "cell_type": "markdown",
      "metadata": {
        "id": "4aAYxV4eDrFD"
      },
      "source": [
        "### 표준점수(Standard Score)\n",
        "\n",
        "*표준점수를 기준으로 스케일 조정*"
      ]
    },
    {
      "cell_type": "code",
      "metadata": {
        "id": "YXsp0P4pCryH"
      },
      "source": [
        "mean = np.mean(train_input,axis=0) # 각각의 열 마다 mean(평균)산출\n",
        "std = np.std(train_input,axis=0) # 각각의 열 마다 std(표준편차)산출"
      ],
      "execution_count": null,
      "outputs": []
    },
    {
      "cell_type": "code",
      "metadata": {
        "colab": {
          "base_uri": "https://localhost:8080/"
        },
        "id": "8Pv5Bm_NED48",
        "outputId": "71665dac-50bc-46fc-d247-189ce3679ee4"
      },
      "source": [
        "print(mean,std)"
      ],
      "execution_count": null,
      "outputs": [
        {
          "output_type": "stream",
          "text": [
            "[ 27.29722222 454.09722222] [  9.98244253 323.29893931]\n"
          ],
          "name": "stdout"
        }
      ]
    },
    {
      "cell_type": "code",
      "metadata": {
        "id": "-fb8GnViESgE"
      },
      "source": [
        "train_scaled = (train_input - mean) / std # Z화(표준화)"
      ],
      "execution_count": null,
      "outputs": []
    },
    {
      "cell_type": "markdown",
      "metadata": {
        "id": "57dFx9JNEp5u"
      },
      "source": [
        "## 전처리 데이터 모델 훈련하기"
      ]
    },
    {
      "cell_type": "markdown",
      "metadata": {
        "id": "FDOEVvfPHZg9"
      },
      "source": [
        "### 산점도(Scatter Plot)"
      ]
    },
    {
      "cell_type": "code",
      "metadata": {
        "colab": {
          "base_uri": "https://localhost:8080/",
          "height": 279
        },
        "id": "NCO5OzNsEkDW",
        "outputId": "7794c7e3-e3dd-4d03-f48c-2b9daf4a8abf"
      },
      "source": [
        "plt.scatter(train_scaled[:,0],train_scaled[:,1])\n",
        "plt.scatter(25,150,marker='^')\n",
        "plt.xlabel('length')\n",
        "plt.ylabel('weigth')\n",
        "plt.show()"
      ],
      "execution_count": null,
      "outputs": [
        {
          "output_type": "display_data",
          "data": {
            "image/png": "[encoded data removed]",
            "text/plain": [
              "<Figure size 432x288 with 1 Axes>"
            ]
          },
          "metadata": {
            "tags": [],
            "needs_background": "light"
          }
        }
      ]
    },
    {
      "cell_type": "markdown",
      "metadata": {
        "id": "QVfK7jVXFHMZ"
      },
      "source": [
        "\n",
        "\n",
        "*   수상한 도미(25,150)를 동일한 비울로 변환하지 않아서 그래프가 이상함\n",
        "*   수상한 도미도 Z화 하고 다시 산점도를 그려보자\n",
        "\n"
      ]
    },
    {
      "cell_type": "code",
      "metadata": {
        "colab": {
          "base_uri": "https://localhost:8080/",
          "height": 279
        },
        "id": "TebzZOVXE9Za",
        "outputId": "d95d8993-8cc0-40d1-843a-a7048c76f94d"
      },
      "source": [
        "new = ([25,150] - mean) / std\n",
        "plt.scatter(train_scaled[:,0],train_scaled[:,1])\n",
        "plt.scatter(new[0],new[1],marker='^')\n",
        "plt.xlabel('length')\n",
        "plt.ylabel('weigth')\n",
        "plt.show()"
      ],
      "execution_count": null,
      "outputs": [
        {
          "output_type": "display_data",
          "data": {
            "image/png": "[encoded data removed]",
            "text/plain": [
              "<Figure size 432x288 with 1 Axes>"
            ]
          },
          "metadata": {
            "tags": [],
            "needs_background": "light"
          }
        }
      ]
    },
    {
      "cell_type": "markdown",
      "metadata": {
        "id": "lMKm6Cc_HinH"
      },
      "source": [
        "\n",
        "\n",
        "*   그래프의 분포는 표준화 전과 비슷하나 x축과 y축의 범위가 (-1.5,1.5)로 바뀌었다는 것을 알 수 있다.\n",
        "*   이 데이터셋으로 K-최근접 이웃 모델을 다시 훈련해보자\n",
        "\n"
      ]
    },
    {
      "cell_type": "markdown",
      "metadata": {
        "id": "1APcjBCwHz7o"
      },
      "source": [
        "### K-최근접 알고리즘"
      ]
    },
    {
      "cell_type": "code",
      "metadata": {
        "colab": {
          "base_uri": "https://localhost:8080/"
        },
        "id": "3FCB9n5oHX1-",
        "outputId": "9ec7b163-4ba2-4ad1-fa11-632ff152a974"
      },
      "source": [
        "kn.fit(train_scaled,train_target)"
      ],
      "execution_count": null,
      "outputs": [
        {
          "output_type": "execute_result",
          "data": {
            "text/plain": [
              "KNeighborsClassifier(algorithm='auto', leaf_size=30, metric='minkowski',\n",
              "                     metric_params=None, n_jobs=None, n_neighbors=5, p=2,\n",
              "                     weights='uniform')"
            ]
          },
          "metadata": {
            "tags": []
          },
          "execution_count": 57
        }
      ]
    },
    {
      "cell_type": "code",
      "metadata": {
        "id": "D0oLfKoMIA83"
      },
      "source": [
        "test_scaled = (test_input - mean) / std # 테스트 세트도 Z화(표준화)진행 단, 테스트 세트의 평균과 표준편차 이용해야함"
      ],
      "execution_count": null,
      "outputs": []
    },
    {
      "cell_type": "code",
      "metadata": {
        "colab": {
          "base_uri": "https://localhost:8080/"
        },
        "id": "X_BSSVH-IT6c",
        "outputId": "ae50c47e-7a6a-43f0-8eec-d9ffa9ddcdaf"
      },
      "source": [
        "kn.score(test_scaled,test_target)"
      ],
      "execution_count": null,
      "outputs": [
        {
          "output_type": "execute_result",
          "data": {
            "text/plain": [
              "1.0"
            ]
          },
          "metadata": {
            "tags": []
          },
          "execution_count": 59
        }
      ]
    },
    {
      "cell_type": "code",
      "metadata": {
        "colab": {
          "base_uri": "https://localhost:8080/"
        },
        "id": "ZheQ8X56IY_e",
        "outputId": "6d650cb2-ea46-49ad-ebb9-00b26c5c5cd5"
      },
      "source": [
        "print(kn.predict([new]))"
      ],
      "execution_count": null,
      "outputs": [
        {
          "output_type": "stream",
          "text": [
            "[1.]\n"
          ],
          "name": "stdout"
        }
      ]
    },
    {
      "cell_type": "markdown",
      "metadata": {
        "id": "nxnG6Gu_IiNE"
      },
      "source": [
        "\n",
        "\n",
        "*   스케일을 맞추고 모델을 적용했더니 정확도가 1이 나왔다.\n",
        "*   수상한 도미도 도미라고 판별하였다.\n",
        "\n",
        "\n",
        "\n"
      ]
    },
    {
      "cell_type": "code",
      "metadata": {
        "colab": {
          "base_uri": "https://localhost:8080/",
          "height": 279
        },
        "id": "H2iHpyfRIhK-",
        "outputId": "7eb884bf-71c4-401e-e17e-67c775fecefb"
      },
      "source": [
        "distances,indexes = kn.kneighbors([new])\n",
        "plt.scatter(train_scaled[:,0],train_scaled[:,1])\n",
        "plt.scatter(new[0],new[1],marker='^')\n",
        "plt.scatter(train_scaled[indexes,0],train_scaled[indexes,1],marker='D')\n",
        "plt.xlabel('length')\n",
        "plt.ylabel('weigth')\n",
        "plt.show()"
      ],
      "execution_count": null,
      "outputs": [
        {
          "output_type": "display_data",
          "data": {
            "image/png": "[encoded data removed]",
            "text/plain": [
              "<Figure size 432x288 with 1 Axes>"
            ]
          },
          "metadata": {
            "tags": [],
            "needs_background": "light"
          }
        }
      ]
    },
    {
      "cell_type": "markdown",
      "metadata": {
        "id": "Rg6yZNm_KBkA"
      },
      "source": [
        "\n",
        "\n",
        "*   근접한 이웃도 도미 5개로 변한 것을 볼 수 있다.\n",
        "\n"
      ]
    }
  ]
}