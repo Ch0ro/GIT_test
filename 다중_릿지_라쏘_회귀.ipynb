{
  "nbformat": 4,
  "nbformat_minor": 0,
  "metadata": {
    "colab": {
      "name": "다중/릿지/라쏘 회귀.ipynb",
      "provenance": [],
      "collapsed_sections": [],
      "authorship_tag": "ABX9TyOk61yJEqhIhskCfYZeBlVJ",
      "include_colab_link": true
    },
    "kernelspec": {
      "name": "python3",
      "display_name": "Python 3"
    },
    "language_info": {
      "name": "python"
    }
  },
  "cells": [
    {
      "cell_type": "markdown",
      "metadata": {
        "id": "view-in-github",
        "colab_type": "text"
      },
      "source": [
        "<a href=\"https://colab.research.google.com/github/Ch0ro/ML-DL/blob/master/%EB%8B%A4%EC%A4%91_%EB%A6%BF%EC%A7%80_%EB%9D%BC%EC%8F%98_%ED%9A%8C%EA%B7%80.ipynb\" target=\"_parent\"><img src=\"https://colab.research.google.com/assets/colab-badge.svg\" alt=\"Open In Colab\"/></a>"
      ]
    },
    {
      "cell_type": "markdown",
      "metadata": {
        "id": "_KablKjjxpFb"
      },
      "source": [
        "# 특성 공학(Feature Engineering)\n",
        "\n",
        "\n",
        "*   기존의 특성을 사용해 새로운 특성을 뽑아내는 작업\n",
        "*   ex) [길이, 높이] -> [길이, 길이^2, 길이*높이,높이^2,높이]\n",
        "\n"
      ]
    },
    {
      "cell_type": "markdown",
      "metadata": {
        "id": "4UeY7LZPzCvv"
      },
      "source": [
        "### 데이터 준비"
      ]
    },
    {
      "cell_type": "code",
      "metadata": {
        "colab": {
          "base_uri": "https://localhost:8080/"
        },
        "id": "LdsZNONVwqn5",
        "outputId": "9a172980-af0f-4b43-8bc4-851ca847b4d4"
      },
      "source": [
        "import pandas as pd\n",
        "\n",
        "df = pd.read_csv('https://bit.ly/perch_csv')\n",
        "perch_full = df.to_numpy()\n",
        "perch_full"
      ],
      "execution_count": 4,
      "outputs": [
        {
          "output_type": "execute_result",
          "data": {
            "text/plain": [
              "array([[ 8.4 ,  2.11,  1.41],\n",
              "       [13.7 ,  3.53,  2.  ],\n",
              "       [15.  ,  3.82,  2.43],\n",
              "       [16.2 ,  4.59,  2.63],\n",
              "       [17.4 ,  4.59,  2.94],\n",
              "       [18.  ,  5.22,  3.32],\n",
              "       [18.7 ,  5.2 ,  3.12],\n",
              "       [19.  ,  5.64,  3.05],\n",
              "       [19.6 ,  5.14,  3.04],\n",
              "       [20.  ,  5.08,  2.77],\n",
              "       [21.  ,  5.69,  3.56],\n",
              "       [21.  ,  5.92,  3.31],\n",
              "       [21.  ,  5.69,  3.67],\n",
              "       [21.3 ,  6.38,  3.53],\n",
              "       [22.  ,  6.11,  3.41],\n",
              "       [22.  ,  5.64,  3.52],\n",
              "       [22.  ,  6.11,  3.52],\n",
              "       [22.  ,  5.88,  3.52],\n",
              "       [22.  ,  5.52,  4.  ],\n",
              "       [22.5 ,  5.86,  3.62],\n",
              "       [22.5 ,  6.79,  3.62],\n",
              "       [22.7 ,  5.95,  3.63],\n",
              "       [23.  ,  5.22,  3.63],\n",
              "       [23.5 ,  6.28,  3.72],\n",
              "       [24.  ,  7.29,  3.72],\n",
              "       [24.  ,  6.38,  3.82],\n",
              "       [24.6 ,  6.73,  4.17],\n",
              "       [25.  ,  6.44,  3.68],\n",
              "       [25.6 ,  6.56,  4.24],\n",
              "       [26.5 ,  7.17,  4.14],\n",
              "       [27.3 ,  8.32,  5.14],\n",
              "       [27.5 ,  7.17,  4.34],\n",
              "       [27.5 ,  7.05,  4.34],\n",
              "       [27.5 ,  7.28,  4.57],\n",
              "       [28.  ,  7.82,  4.2 ],\n",
              "       [28.7 ,  7.59,  4.64],\n",
              "       [30.  ,  7.62,  4.77],\n",
              "       [32.8 , 10.03,  6.02],\n",
              "       [34.5 , 10.26,  6.39],\n",
              "       [35.  , 11.49,  7.8 ],\n",
              "       [36.5 , 10.88,  6.86],\n",
              "       [36.  , 10.61,  6.74],\n",
              "       [37.  , 10.84,  6.26],\n",
              "       [37.  , 10.57,  6.37],\n",
              "       [39.  , 11.14,  7.49],\n",
              "       [39.  , 11.14,  6.  ],\n",
              "       [39.  , 12.43,  7.35],\n",
              "       [40.  , 11.93,  7.11],\n",
              "       [40.  , 11.73,  7.22],\n",
              "       [40.  , 12.38,  7.46],\n",
              "       [40.  , 11.14,  6.63],\n",
              "       [42.  , 12.8 ,  6.87],\n",
              "       [43.  , 11.93,  7.28],\n",
              "       [43.  , 12.51,  7.42],\n",
              "       [43.5 , 12.6 ,  8.14],\n",
              "       [44.  , 12.49,  7.6 ]])"
            ]
          },
          "metadata": {
            "tags": []
          },
          "execution_count": 4
        }
      ]
    },
    {
      "cell_type": "code",
      "metadata": {
        "id": "1B9EMCteycSA"
      },
      "source": [
        "import numpy as np\n",
        "\n",
        "perch_weight = np.array([5.9, 32.0, 40.0, 51.5, 70.0, 100.0, 78.0, 80.0, 85.0, 85.0, 110.0,\n",
        "       115.0, 125.0, 130.0, 120.0, 120.0, 130.0, 135.0, 110.0, 130.0,\n",
        "       150.0, 145.0, 150.0, 170.0, 225.0, 145.0, 188.0, 180.0, 197.0,\n",
        "       218.0, 300.0, 260.0, 265.0, 250.0, 250.0, 300.0, 320.0, 514.0,\n",
        "       556.0, 840.0, 685.0, 700.0, 700.0, 690.0, 900.0, 650.0, 820.0,\n",
        "       850.0, 900.0, 1015.0, 820.0, 1100.0, 1000.0, 1100.0, 1000.0,\n",
        "       1000.0])"
      ],
      "execution_count": 5,
      "outputs": []
    },
    {
      "cell_type": "markdown",
      "metadata": {
        "id": "nevZNk9ZzIxl"
      },
      "source": [
        "### 훈련 세트/테스트 세트 분리"
      ]
    },
    {
      "cell_type": "code",
      "metadata": {
        "id": "XcoN564dzBnA"
      },
      "source": [
        "from sklearn.model_selection import train_test_split\n",
        "\n",
        "train_input, test_input, train_target,test_target = train_test_split(perch_full,perch_weight,random_state=42)"
      ],
      "execution_count": 6,
      "outputs": []
    },
    {
      "cell_type": "markdown",
      "metadata": {
        "id": "M_mJpjW50hFK"
      },
      "source": [
        "# PolynomialFeatures"
      ]
    },
    {
      "cell_type": "code",
      "metadata": {
        "colab": {
          "base_uri": "https://localhost:8080/"
        },
        "id": "qDt-Tb_7zgYe",
        "outputId": "1445173f-7984-4145-c391-40dba6974ce7"
      },
      "source": [
        "from sklearn.preprocessing import PolynomialFeatures\n",
        "\n",
        "# 예시\n",
        "poly = PolynomialFeatures()\n",
        "poly.fit([[2,3]])\n",
        "poly.transform([[2,3]]) # 2개의 특성 [2,3]이 6개의 특성을 가진 [1,2,3,4,6,9] 샘플로 바뀜\n",
        "# 2,3,4,6,9 는 2와 3을 조합해서 나온 수\n",
        "# 그러나 1은 선형 방정식의 절편때문에 생겨난 것이고, 이는 원래 특성이 [2,3]이 아닌 [1,2,3]이라는 의미가 되므로 이를 삭제 하고 진행"
      ],
      "execution_count": 8,
      "outputs": [
        {
          "output_type": "execute_result",
          "data": {
            "text/plain": [
              "array([[1., 2., 3., 4., 6., 9.]])"
            ]
          },
          "metadata": {
            "tags": []
          },
          "execution_count": 8
        }
      ]
    },
    {
      "cell_type": "code",
      "metadata": {
        "colab": {
          "base_uri": "https://localhost:8080/"
        },
        "id": "qQSszRhz1BCS",
        "outputId": "69f8eaa5-a2c3-4586-a41f-4fc51a2dd5ae"
      },
      "source": [
        "poly = PolynomialFeatures(include_bias=False) # 절편 추가 안함\n",
        "poly.fit([[2,3]])\n",
        "poly.transform([[2,3]])"
      ],
      "execution_count": 9,
      "outputs": [
        {
          "output_type": "execute_result",
          "data": {
            "text/plain": [
              "array([[2., 3., 4., 6., 9.]])"
            ]
          },
          "metadata": {
            "tags": []
          },
          "execution_count": 9
        }
      ]
    },
    {
      "cell_type": "markdown",
      "metadata": {
        "id": "7DvaFBJq14Ff"
      },
      "source": [
        "**실제 데이터에 적용**"
      ]
    },
    {
      "cell_type": "code",
      "metadata": {
        "colab": {
          "base_uri": "https://localhost:8080/"
        },
        "id": "oap4EGCx111B",
        "outputId": "443ca429-784f-4fd7-8e54-d012b2dc151c"
      },
      "source": [
        "poly = PolynomialFeatures(include_bias=False)\n",
        "poly.fit(train_input)\n",
        "train_poly = poly.transform(train_input)\n",
        "train_poly.shape # 특성이 9개로 늘어남"
      ],
      "execution_count": 10,
      "outputs": [
        {
          "output_type": "execute_result",
          "data": {
            "text/plain": [
              "(42, 9)"
            ]
          },
          "metadata": {
            "tags": []
          },
          "execution_count": 10
        }
      ]
    },
    {
      "cell_type": "code",
      "metadata": {
        "colab": {
          "base_uri": "https://localhost:8080/"
        },
        "id": "hfrbOqcO2Q0z",
        "outputId": "e5a36282-534c-413e-e564-5217e2fe3972"
      },
      "source": [
        "poly.get_feature_names() # 특성이 어떻게 만들어졌는지 확인"
      ],
      "execution_count": 11,
      "outputs": [
        {
          "output_type": "execute_result",
          "data": {
            "text/plain": [
              "['x0', 'x1', 'x2', 'x0^2', 'x0 x1', 'x0 x2', 'x1^2', 'x1 x2', 'x2^2']"
            ]
          },
          "metadata": {
            "tags": []
          },
          "execution_count": 11
        }
      ]
    },
    {
      "cell_type": "code",
      "metadata": {
        "id": "5YaDnCeE2a2c"
      },
      "source": [
        "test_poly = poly.transform(test_input) # test_input도 특성 조정"
      ],
      "execution_count": 12,
      "outputs": []
    },
    {
      "cell_type": "markdown",
      "metadata": {
        "id": "D4irzcfS2n2X"
      },
      "source": [
        "# 다중 회귀 모델 "
      ]
    },
    {
      "cell_type": "code",
      "metadata": {
        "colab": {
          "base_uri": "https://localhost:8080/"
        },
        "id": "xEBDnGFF2jV2",
        "outputId": "332b831f-7225-4328-b873-d5b6832bc66d"
      },
      "source": [
        "from sklearn.linear_model import LinearRegression\n",
        "\n",
        "lr=LinearRegression()\n",
        "lr.fit(train_poly,train_target)\n",
        "lr.score(train_poly,train_target)"
      ],
      "execution_count": 13,
      "outputs": [
        {
          "output_type": "execute_result",
          "data": {
            "text/plain": [
              "0.9903183436982124"
            ]
          },
          "metadata": {
            "tags": []
          },
          "execution_count": 13
        }
      ]
    },
    {
      "cell_type": "code",
      "metadata": {
        "colab": {
          "base_uri": "https://localhost:8080/"
        },
        "id": "NGA4jPOw3ED3",
        "outputId": "f98bb9cb-ff80-4d54-e288-ddb8d77df7af"
      },
      "source": [
        "lr.score(test_poly,test_target)"
      ],
      "execution_count": 14,
      "outputs": [
        {
          "output_type": "execute_result",
          "data": {
            "text/plain": [
              "0.9714559911594132"
            ]
          },
          "metadata": {
            "tags": []
          },
          "execution_count": 14
        }
      ]
    },
    {
      "cell_type": "markdown",
      "metadata": {
        "id": "jf13obIe3VG4"
      },
      "source": [
        "### 3제곱, 4제곱 등 고차원 특성을 넣어보면?"
      ]
    },
    {
      "cell_type": "code",
      "metadata": {
        "colab": {
          "base_uri": "https://localhost:8080/"
        },
        "id": "_EHqnj0W3LMw",
        "outputId": "412bf1c6-1114-4d2e-d79f-7a703ac6189d"
      },
      "source": [
        "poly=PolynomialFeatures(degree=5,include_bias=False) # 5제곱까지 특성을 만듦\n",
        "poly.fit(train_input)\n",
        "train_poly = poly.transform(train_input)\n",
        "test_poly = poly.transform(test_input)\n",
        "train_poly.shape # 특성이 55개 까지 늘어남"
      ],
      "execution_count": 15,
      "outputs": [
        {
          "output_type": "execute_result",
          "data": {
            "text/plain": [
              "(42, 55)"
            ]
          },
          "metadata": {
            "tags": []
          },
          "execution_count": 15
        }
      ]
    },
    {
      "cell_type": "code",
      "metadata": {
        "colab": {
          "base_uri": "https://localhost:8080/"
        },
        "id": "zc53NnrR3z3Q",
        "outputId": "33b2b068-269d-4ce5-d4ea-f97b80a62593"
      },
      "source": [
        "lr.fit(train_poly,train_target)\n",
        "lr.score(train_poly,train_target)"
      ],
      "execution_count": 19,
      "outputs": [
        {
          "output_type": "execute_result",
          "data": {
            "text/plain": [
              "0.9999999999991096"
            ]
          },
          "metadata": {
            "tags": []
          },
          "execution_count": 19
        }
      ]
    },
    {
      "cell_type": "code",
      "metadata": {
        "colab": {
          "base_uri": "https://localhost:8080/"
        },
        "id": "GBqQOL_64F-R",
        "outputId": "dc890e1c-3353-4055-cd51-ec3db348df27"
      },
      "source": [
        "lr.score(test_poly,test_target)"
      ],
      "execution_count": 20,
      "outputs": [
        {
          "output_type": "execute_result",
          "data": {
            "text/plain": [
              "-144.40579242335605"
            ]
          },
          "metadata": {
            "tags": []
          },
          "execution_count": 20
        }
      ]
    },
    {
      "cell_type": "markdown",
      "metadata": {
        "id": "MSkpNIEr4X0O"
      },
      "source": [
        "\n",
        "\n",
        "*   테스트 세트에 대한 값은 음수가 나오고 있음 => 과대적합 (특성의 개수가 많다고 무조건 좋은 것이 아님)\n",
        "*   각 변수의 회귀 계수(기울기 또는 가중치)의 크기를 작게 만들어 선형적으로 만들어야 함\n",
        "*   이 때 특성별로 회귀 계수의 크기가 상이하므로 정규화 작업을 통해 스케일을 맞춰줘야 함\n",
        "\n",
        "\n"
      ]
    },
    {
      "cell_type": "markdown",
      "metadata": {
        "id": "rcNTS70n5IYo"
      },
      "source": [
        "# 규제\n",
        "\n",
        "\n",
        "*   머신러닝 모델이 훈련 세트를 과도하게 학습하지 못하도록 훼방하는 것 즉, 과대적합 방지\n",
        "*   선형 모델은 기울기를 작게 만들어 규제함 \n",
        "*   스케일링 및 정규화 작업 진행\n",
        "\n",
        "\n",
        "\n",
        "\n"
      ]
    },
    {
      "cell_type": "code",
      "metadata": {
        "id": "X__8bva14OQS"
      },
      "source": [
        "from sklearn.preprocessing import StandardScaler\n",
        "ss = StandardScaler()\n",
        "ss.fit(train_poly)\n",
        "train_scaled = ss.transform(train_poly)\n",
        "test_scaled = ss.transform(test_poly)"
      ],
      "execution_count": 22,
      "outputs": []
    },
    {
      "cell_type": "markdown",
      "metadata": {
        "id": "U6YOpJ3B5qDB"
      },
      "source": [
        "# 릿지와 라쏘 회귀\n",
        "\n",
        "\n",
        "*   선형 회귀 모델에 규제를 추가한 모델을 릿지와 라쏘라고 부름\n",
        "*   릿지: 계수를 제곱한 값을 기준으로 규제\n",
        "*   라쏘: 계수의 절댓값을 기준으로 규제\n",
        "*   일반적으로 릿지를 더 선호하고, 라쏘는 계수의 크기를 0으로도 만들 수 있음\n",
        "\n",
        "\n",
        "\n"
      ]
    },
    {
      "cell_type": "markdown",
      "metadata": {
        "id": "_7uP3Rht6kkj"
      },
      "source": [
        "## ► 릿지 회귀"
      ]
    },
    {
      "cell_type": "code",
      "metadata": {
        "colab": {
          "base_uri": "https://localhost:8080/"
        },
        "id": "-_qaUzxU5hTL",
        "outputId": "d7edf525-72d0-4eb7-bbcf-aa5feacac2d4"
      },
      "source": [
        "from sklearn.linear_model import Ridge\n",
        "ridge = Ridge()\n",
        "ridge.fit(train_scaled, train_target)\n",
        "ridge.score(train_scaled,train_target)"
      ],
      "execution_count": 23,
      "outputs": [
        {
          "output_type": "execute_result",
          "data": {
            "text/plain": [
              "0.9896101671037343"
            ]
          },
          "metadata": {
            "tags": []
          },
          "execution_count": 23
        }
      ]
    },
    {
      "cell_type": "code",
      "metadata": {
        "colab": {
          "base_uri": "https://localhost:8080/"
        },
        "id": "cVBwFtAF69S1",
        "outputId": "9df8686a-d20c-4732-cb52-f439967f51d4"
      },
      "source": [
        "ridge.score(test_scaled,test_target)"
      ],
      "execution_count": 24,
      "outputs": [
        {
          "output_type": "execute_result",
          "data": {
            "text/plain": [
              "0.9790693977615398"
            ]
          },
          "metadata": {
            "tags": []
          },
          "execution_count": 24
        }
      ]
    },
    {
      "cell_type": "markdown",
      "metadata": {
        "id": "l7bMMCcL7YhS"
      },
      "source": [
        "\n",
        "\n",
        "*   alpha: 릿지와 라쏘 모델에서 규제의 양을 임의로 조정하는 하이퍼파라미터로, alpha 값이 커질수록 규제 강도가 세지므로 계수 값을 더 줄이고 조금 더 과소적합되도록 유도함\n",
        ">\n",
        "*   적절한 alpha 값을 찾기위해 각 값에 대한 R^2 값 그래프를 그려보자\n",
        "\n",
        "\n"
      ]
    },
    {
      "cell_type": "code",
      "metadata": {
        "id": "SmaKBrG77CFK"
      },
      "source": [
        "import matplotlib.pyplot as plt\n",
        "train_score=[]\n",
        "test_score=[]\n",
        "\n",
        "alpha_list = [0.001, 0.01, 0.1, 1, 10, 100]\n",
        "for alpha in alpha_list:\n",
        "  ridge=Ridge(alpha=alpha)\n",
        "  ridge.fit(train_scaled, train_target)\n",
        "  # 훈련 점수와 테스트 점수 저장\n",
        "  train_score.append(ridge.score(train_scaled,train_target))\n",
        "  test_score.append(ridge.score(test_scaled,test_target))"
      ],
      "execution_count": 25,
      "outputs": []
    },
    {
      "cell_type": "code",
      "metadata": {
        "colab": {
          "base_uri": "https://localhost:8080/",
          "height": 279
        },
        "id": "sjZZKc1D8mDG",
        "outputId": "b17f6280-2b1c-4556-e672-fdf14b8fd412"
      },
      "source": [
        "# alpha 값들이 굉장히 작기 때문에 log값을 취해서 그래프 그리겠음\n",
        "plt.plot(np.log10(alpha_list),train_score) # 기본값 파란색 선\n",
        "plt.plot(np.log10(alpha_list),test_score) # 주황색 선\n",
        "plt.xlabel('log10(alpha)')\n",
        "plt.ylabel('R^2')\n",
        "plt.show()"
      ],
      "execution_count": 26,
      "outputs": [
        {
          "output_type": "display_data",
          "data": {
            "image/png": "[encoded data removed]",
            "text/plain": [
              "<Figure size 432x288 with 1 Axes>"
            ]
          },
          "metadata": {
            "tags": [],
            "needs_background": "light"
          }
        }
      ]
    },
    {
      "cell_type": "markdown",
      "metadata": {
        "id": "1Uso_GHJ9X0F"
      },
      "source": [
        "\n",
        "\n",
        "*   그래프 왼쪽: 훈련 점수와 테스트 점수의 차이가 큰 것을 알 수 있음 => 과대적합으로 보임\n",
        "*   그래프 오른쪽: 훈련 점수와 테스트 점수 모두 낮아지고 있음 => 과소 적합 \n",
        ">\n",
        "*   적절한 alpha값은 두 그래프가 가장 가깝고 테스트 세트의 점수가 가장 높음 -1 즉 0.1\n",
        "\n",
        "\n",
        "\n"
      ]
    },
    {
      "cell_type": "markdown",
      "metadata": {
        "id": "3g5Mo278-Bj2"
      },
      "source": [
        "### alpha = 0.1 인 최종 모델 생성"
      ]
    },
    {
      "cell_type": "code",
      "metadata": {
        "colab": {
          "base_uri": "https://localhost:8080/"
        },
        "id": "Q5BwHa8n9M7T",
        "outputId": "7040726f-6c79-4f22-b8f6-c878a66e80aa"
      },
      "source": [
        "ridge = Ridge(alpha=0.1)\n",
        "ridge.fit(train_scaled,train_target)\n",
        "print(ridge.score(train_scaled,train_target))\n",
        "print(ridge.score(test_scaled,test_target))"
      ],
      "execution_count": 27,
      "outputs": [
        {
          "output_type": "stream",
          "text": [
            "0.9903815817570366\n",
            "0.9827976465386927\n"
          ],
          "name": "stdout"
        }
      ]
    },
    {
      "cell_type": "markdown",
      "metadata": {
        "id": "vsngWR3o-Xl1"
      },
      "source": [
        "## ► 라쏘 회귀"
      ]
    },
    {
      "cell_type": "code",
      "metadata": {
        "colab": {
          "base_uri": "https://localhost:8080/"
        },
        "id": "9skBqkZq-VaC",
        "outputId": "a4aec0b0-ae54-47b2-9785-8078538d9791"
      },
      "source": [
        "from sklearn.linear_model import Lasso\n",
        "\n",
        "lasso = Lasso()\n",
        "lasso.fit(train_scaled, train_target)\n",
        "print(lasso.score(train_scaled, train_target))\n",
        "print(lasso.score(test_scaled,test_target))"
      ],
      "execution_count": 29,
      "outputs": [
        {
          "output_type": "stream",
          "text": [
            "0.9897898972080961\n",
            "0.9800593698421883\n"
          ],
          "name": "stdout"
        }
      ]
    },
    {
      "cell_type": "markdown",
      "metadata": {
        "id": "CCst_KTw-1oZ"
      },
      "source": [
        "\n",
        "\n",
        "*   훈련 점수와 테스트 점수 모두 과소/과대 적합 없이 잘나옴\n",
        "*   라쏘도 alpha를 조정할 수 있으므로 한번 확인해보겠음\n",
        "\n"
      ]
    },
    {
      "cell_type": "code",
      "metadata": {
        "colab": {
          "base_uri": "https://localhost:8080/"
        },
        "id": "GD_pLqvX-yW_",
        "outputId": "f54e7f29-8a76-4091-b617-a79cabe7eafb"
      },
      "source": [
        "train_score=[]\n",
        "test_score=[]\n",
        "alpha_list=[0.001,0.01,0.1,1,10,100]\n",
        "\n",
        "for alpha in alpha_list:\n",
        "  # 라쏘 모델 생성\n",
        "  lasso = Lasso(alpha=alpha, max_iter=10000) # 라쏘 모델은 최적의 계수를 찾기 위해 반복적인 계산을 수행하는데, 이런 횟수를 지정하는 것이 max_iter 이다.\n",
        "  # 반복 횟수가 부족하지 않도록 충분이 10000으로 설정\n",
        "  # 라쏘 모델 훈련\n",
        "  lasso.fit(train_scaled, train_target)\n",
        "  train_score.append(lasso.score(train_scaled,train_target))\n",
        "  test_score.append(lasso.score(test_scaled,test_target))"
      ],
      "execution_count": 30,
      "outputs": [
        {
          "output_type": "stream",
          "text": [
            "/usr/local/lib/python3.7/dist-packages/sklearn/linear_model/_coordinate_descent.py:476: ConvergenceWarning: Objective did not converge. You might want to increase the number of iterations. Duality gap: 18778.697957792876, tolerance: 518.2793833333334\n",
            "  positive)\n",
            "/usr/local/lib/python3.7/dist-packages/sklearn/linear_model/_coordinate_descent.py:476: ConvergenceWarning: Objective did not converge. You might want to increase the number of iterations. Duality gap: 12972.821345404844, tolerance: 518.2793833333334\n",
            "  positive)\n"
          ],
          "name": "stderr"
        }
      ]
    },
    {
      "cell_type": "code",
      "metadata": {
        "colab": {
          "base_uri": "https://localhost:8080/",
          "height": 279
        },
        "id": "RcBcfbQn_8k6",
        "outputId": "43a5dbbb-c4f4-4c69-bf9c-3a70f4b4db19"
      },
      "source": [
        "# alpha 값들이 굉장히 작기 때문에 log값을 취해서 그래프 그리겠음\n",
        "plt.plot(np.log10(alpha_list),train_score) # 기본값 파란색 선\n",
        "plt.plot(np.log10(alpha_list),test_score) # 주황색 선\n",
        "plt.xlabel('log10(alpha)')\n",
        "plt.ylabel('R^2')\n",
        "plt.show()"
      ],
      "execution_count": 31,
      "outputs": [
        {
          "output_type": "display_data",
          "data": {
            "image/png": "[encoded data removed]",
            "text/plain": [
              "<Figure size 432x288 with 1 Axes>"
            ]
          },
          "metadata": {
            "tags": [],
            "needs_background": "light"
          }
        }
      ]
    },
    {
      "cell_type": "markdown",
      "metadata": {
        "id": "_RBt1TJnAJO2"
      },
      "source": [
        "\n",
        "\n",
        "*   그래프 왼쪽: 훈련 점수가 월등히 높아 과대적합을 보여주고 있음\n",
        "*   그래프 오른쪽으로 갈수록 두 점수의 차이가 좁혀지고 있으나, 과소적합 문제를 보임\n",
        "\n",
        ">\n",
        "*   최적의 alpha는 1 즉 10 (로그 값이 1이므로 alpha는 10)\n",
        "\n",
        "\n",
        "\n"
      ]
    },
    {
      "cell_type": "markdown",
      "metadata": {
        "id": "C-4YOpg2AijK"
      },
      "source": [
        "### alpha = 10인 최종 모델 생성"
      ]
    },
    {
      "cell_type": "code",
      "metadata": {
        "colab": {
          "base_uri": "https://localhost:8080/"
        },
        "id": "2iADNlOtAGYZ",
        "outputId": "8d3204d8-8b9b-4128-dab3-3eb360713c48"
      },
      "source": [
        "lasso = Lasso(alpha=10)\n",
        "lasso.fit(train_scaled,train_target)\n",
        "print(lasso.score(train_scaled,train_target))\n",
        "print(lasso.score(test_scaled,test_target))"
      ],
      "execution_count": 32,
      "outputs": [
        {
          "output_type": "stream",
          "text": [
            "0.9888067471131867\n",
            "0.9824470598706695\n"
          ],
          "name": "stdout"
        }
      ]
    },
    {
      "cell_type": "code",
      "metadata": {
        "colab": {
          "base_uri": "https://localhost:8080/"
        },
        "id": "lmvWuU2CAxvc",
        "outputId": "dc9cc2d0-1138-4646-d096-c6c363f53a67"
      },
      "source": [
        "np.sum(lasso.coef_==0) # 55개의 특성 중 40개의 계수가 0이 됐음 즉, 유용한 특성은 15개"
      ],
      "execution_count": 33,
      "outputs": [
        {
          "output_type": "execute_result",
          "data": {
            "text/plain": [
              "40"
            ]
          },
          "metadata": {
            "tags": []
          },
          "execution_count": 33
        }
      ]
    },
    {
      "cell_type": "markdown",
      "metadata": {
        "id": "gADgRB16BIjO"
      },
      "source": [
        "\n",
        "\n",
        "*   lasso.coef_==0에서 True(=1)인 값들의 합을 구한 것이므로 40이 곧 개수가 됨\n",
        "*   15개의 유용한 특성을 확인 => 특성을 골라내는 용도로도 사용 가능\n",
        "\n"
      ]
    }
  ]
}